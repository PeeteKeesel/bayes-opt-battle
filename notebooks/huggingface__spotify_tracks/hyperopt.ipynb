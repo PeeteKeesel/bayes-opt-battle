{
 "cells": [
  {
   "cell_type": "code",
   "execution_count": 1,
   "metadata": {},
   "outputs": [],
   "source": [
    "\n",
    "# General imports.import pprint\n",
    "import time\n",
    "import pandas as pd\n",
    "import numpy as np\n",
    "import matplotlib.pyplot as plt\n",
    "import seaborn as sns\n",
    "import pprint\n",
    "\n",
    "# ML-related imports\n",
    "from sklearn.model_selection import train_test_split\n",
    "from sklearn.preprocessing import StandardScaler\n",
    "from sklearn.linear_model import LogisticRegression\n",
    "from sklearn.ensemble import RandomForestClassifier\n",
    "from sklearn.metrics import accuracy_score, precision_score, recall_score, f1_score\n",
    "from sklearn.metrics import confusion_matrix\n",
    "from sklearn.metrics import classification_report\n",
    "from sklearn.pipeline import Pipeline\n",
    "\n",
    "# Huggingface datasets.\n",
    "from datasets import load_dataset"
   ]
  },
  {
   "cell_type": "markdown",
   "metadata": {},
   "source": [
    "# Comparison of Bayesian Optimization Frameworks\n",
    "\n",
    "In this notebook we are going to compare different bayesian optimization libraries against each other. To compare our results we will use [Huggingfaces spotify tracks dataset](https://huggingface.co/datasets/maharshipandya/spotify-tracks-dataset) dataset. We performed a short EDA on this dataset in [notebooks/eda__spotify_tracks.ipynb](https://github.com/PeeteKeesel/bayes-opt-battle/blob/7fed8d739c1b02c84a1eff05c0d3a44cb108e686/notebooks/huggingface__spotify_tracks/eda__spotify_tracks.ipynb).  "
   ]
  },
  {
   "cell_type": "markdown",
   "metadata": {},
   "source": [
    "## Global Settings"
   ]
  },
  {
   "cell_type": "code",
   "execution_count": 2,
   "metadata": {},
   "outputs": [],
   "source": [
    "RANDOM_SEED = 42"
   ]
  },
  {
   "cell_type": "code",
   "execution_count": 3,
   "metadata": {},
   "outputs": [
    {
     "name": "stdout",
     "output_type": "stream",
     "text": [
      "Shape: {'train': (114000, 21)}\n"
     ]
    }
   ],
   "source": [
    "dataset = load_dataset('maharshipandya/spotify-tracks-dataset')\n",
    "print(f\"Shape: {dataset.shape}\")"
   ]
  },
  {
   "cell_type": "code",
   "execution_count": 4,
   "metadata": {},
   "outputs": [
    {
     "name": "stdout",
     "output_type": "stream",
     "text": [
      "Shape: (114000, 21)\n",
      "<class 'pandas.core.frame.DataFrame'>\n",
      "RangeIndex: 114000 entries, 0 to 113999\n",
      "Data columns (total 21 columns):\n",
      " #   Column            Non-Null Count   Dtype  \n",
      "---  ------            --------------   -----  \n",
      " 0   Unnamed: 0        114000 non-null  int64  \n",
      " 1   track_id          114000 non-null  object \n",
      " 2   artists           113999 non-null  object \n",
      " 3   album_name        113999 non-null  object \n",
      " 4   track_name        113999 non-null  object \n",
      " 5   popularity        114000 non-null  int64  \n",
      " 6   duration_ms       114000 non-null  int64  \n",
      " 7   explicit          114000 non-null  bool   \n",
      " 8   danceability      114000 non-null  float64\n",
      " 9   energy            114000 non-null  float64\n",
      " 10  key               114000 non-null  int64  \n",
      " 11  loudness          114000 non-null  float64\n",
      " 12  mode              114000 non-null  int64  \n",
      " 13  speechiness       114000 non-null  float64\n",
      " 14  acousticness      114000 non-null  float64\n",
      " 15  instrumentalness  114000 non-null  float64\n",
      " 16  liveness          114000 non-null  float64\n",
      " 17  valence           114000 non-null  float64\n",
      " 18  tempo             114000 non-null  float64\n",
      " 19  time_signature    114000 non-null  int64  \n",
      " 20  track_genre       114000 non-null  object \n",
      "dtypes: bool(1), float64(9), int64(6), object(5)\n",
      "memory usage: 17.5+ MB\n"
     ]
    }
   ],
   "source": [
    "df = pd.DataFrame(dataset.get('train'))\n",
    "print(f\"Shape: {df.shape}\")\n",
    "df.info()"
   ]
  },
  {
   "cell_type": "code",
   "execution_count": 5,
   "metadata": {},
   "outputs": [
    {
     "name": "stdout",
     "output_type": "stream",
     "text": [
      "There are 6 int features in the dataset\n",
      "There are 9 float features in the dataset\n"
     ]
    }
   ],
   "source": [
    "INT_FEATURES = df.select_dtypes(include=['int64', 'int32']).columns.tolist()\n",
    "print(f\"There are {len(INT_FEATURES)} int features in the dataset\")\n",
    "\n",
    "FLOAT_FEATURES = df.select_dtypes(include=['float64', 'float32']).columns.tolist()\n",
    "print(f\"There are {len(FLOAT_FEATURES)} float features in the dataset\")\n",
    "\n",
    "FEATURES = INT_FEATURES + FLOAT_FEATURES\n",
    "TARGET_PRIOR = 'popularity'"
   ]
  },
  {
   "cell_type": "code",
   "execution_count": 6,
   "metadata": {},
   "outputs": [
    {
     "data": {
      "text/plain": [
       "0    23462\n",
       "4    18904\n",
       "2    17579\n",
       "3    15570\n",
       "5    14200\n",
       "1    10715\n",
       "6     8724\n",
       "7     3892\n",
       "8      886\n",
       "9       68\n",
       "Name: popularity_bucket, dtype: int64"
      ]
     },
     "execution_count": 6,
     "metadata": {},
     "output_type": "execute_result"
    }
   ],
   "source": [
    "bins = np.arange(0, 101, 10)\n",
    "labels = np.arange(0, len(bins)-1, 1)\n",
    "assert len(bins) == len(labels)+1, f\"len(bins) = {len(bins)} != {len(labels)}+1 = len(labels)\"\n",
    "\n",
    "df['popularity_bucket'] = pd.cut(df[TARGET_PRIOR], \n",
    "                                 bins=bins, \n",
    "                                 labels=labels, \n",
    "                                 include_lowest=True)\n",
    "\n",
    "TARGET = 'popularity_bucket' \n",
    "df['popularity_bucket'].value_counts()     "
   ]
  },
  {
   "cell_type": "code",
   "execution_count": 7,
   "metadata": {},
   "outputs": [],
   "source": [
    "def predict_and_summarize(X_train_scaled,\n",
    "                          X_test_scaled, \n",
    "                          y_train, \n",
    "                          y_test,\n",
    "                          clf,\n",
    "                          model_type):\n",
    "\n",
    "    y_pred_train = clf.predict(X_train_scaled)\n",
    "    train_acc = accuracy_score(y_train, y_pred_train)\n",
    "    train_prec = precision_score(y_train, y_pred_train, average='macro', zero_division=0)\n",
    "    train_rec = recall_score(y_train, y_pred_train, average='macro', zero_division=0)\n",
    "    train_f1 = f1_score(y_train, y_pred_train, average='macro', zero_division=0)\n",
    "\n",
    "    y_pred = clf.predict(X_test_scaled)\n",
    "    test_acc = accuracy_score(y_test, y_pred)\n",
    "    test_prec = precision_score(y_test, y_pred, average='macro', zero_division=0)\n",
    "    test_rec = recall_score(y_test, y_pred, average='macro', zero_division=0)\n",
    "    test_f1 = f1_score(y_test, y_pred, average='macro', zero_division=0)\n",
    "\n",
    "    print(f\"\"\"\n",
    "    Performance Results : {model_type} \n",
    "    ========================================\n",
    "                    {'Train':<10}{'Test':<10}\n",
    "        Accuracy  : {train_acc:<10.4f}{test_acc:<10.4f}\n",
    "        Precision : {train_prec:<10.4f}{test_prec:<10.4f}\n",
    "        Recall    : {train_rec:<10.4f}{test_rec:<10.4f}\n",
    "        F1-Score  : {train_f1:<10.4f}{test_f1:<10.4f}\n",
    "    \"\"\")\n",
    "\n",
    "    return {'y_pred_train': y_pred_train, 'y_pred_test': y_pred}"
   ]
  },
  {
   "cell_type": "markdown",
   "metadata": {},
   "source": [
    "## Dataset Preparation"
   ]
  },
  {
   "cell_type": "code",
   "execution_count": 8,
   "metadata": {},
   "outputs": [
    {
     "name": "stdout",
     "output_type": "stream",
     "text": [
      "\n",
      "Shapes\n",
      "======\n",
      "    train: (96900, 15)\n",
      "    test : (17100, 15)      \n",
      "\n"
     ]
    }
   ],
   "source": [
    "X_train, X_test, y_train, y_test = train_test_split(df[FEATURES], \n",
    "                                                    df[TARGET], \n",
    "                                                    test_size=0.15,\n",
    "                                                    random_state=RANDOM_SEED,\n",
    "                                                    stratify=df[TARGET])\n",
    "print(f\"\"\"\n",
    "Shapes\n",
    "======\n",
    "    train: {X_train.shape}\n",
    "    test : {X_test.shape}      \n",
    "\"\"\")"
   ]
  },
  {
   "cell_type": "code",
   "execution_count": 9,
   "metadata": {},
   "outputs": [],
   "source": [
    "scaler = StandardScaler()\n",
    "X_train_scaled = scaler.fit_transform(X_train)\n",
    "X_test_scaled = scaler.transform(X_test)"
   ]
  },
  {
   "cell_type": "markdown",
   "metadata": {},
   "source": [
    "## Bayesian Hyperparameter Optimization\n",
    "\n",
    "Now we will tune the models hyperparameters using different libraries provided by Python.\n",
    "\n",
    "We will use `Precision` as our optimization metric."
   ]
  },
  {
   "cell_type": "code",
   "execution_count": 10,
   "metadata": {},
   "outputs": [
    {
     "name": "stdout",
     "output_type": "stream",
     "text": [
      "\n",
      "Shapes\n",
      "======\n",
      "    train : (77520, 15)\n",
      "    val   : (19380, 15)\n",
      "    test  : (17100, 15)\n",
      "\n"
     ]
    }
   ],
   "source": [
    "X_tra, X_val, y_tra, y_val = train_test_split(X_train,\n",
    "                                              y_train, \n",
    "                                              test_size=0.2, \n",
    "                                              random_state=RANDOM_SEED,\n",
    "                                              stratify=y_train)\n",
    "print(f\"\"\"\n",
    "Shapes\n",
    "======\n",
    "    train : {X_tra.shape}\n",
    "    val   : {X_val.shape}\n",
    "    test  : {X_test.shape}\n",
    "\"\"\")"
   ]
  },
  {
   "cell_type": "markdown",
   "metadata": {},
   "source": [
    "---\n",
    "\n",
    "## `hyperopt`"
   ]
  },
  {
   "cell_type": "code",
   "execution_count": 13,
   "metadata": {},
   "outputs": [],
   "source": [
    "N_ITER = 5"
   ]
  },
  {
   "cell_type": "code",
   "execution_count": 11,
   "metadata": {},
   "outputs": [],
   "source": [
    "from hyperopt import fmin, tpe, hp\n",
    "\n",
    "accuracies_train, precisions_train, recalls_train, f1s_train = [], [], [], []\n",
    "accuracies_val, precisions_val, recalls_val, f1s_val = [], [], [], []\n",
    "accuracies_test, precisions_test, recalls_test, f1s_test = [], [], [], []\n",
    "\n",
    "def objective(params):\n",
    "    n_estimators = int(params['n_estimators'])\n",
    "    max_depth = int(params['max_depth'])\n",
    "    min_samples_split = params['min_samples_split']\n",
    "    min_samples_leaf = params['min_samples_leaf']\n",
    "    \n",
    "    pipeline = Pipeline([\n",
    "        ('scaler', StandardScaler()),\n",
    "        ('classifier', RandomForestClassifier(\n",
    "            n_estimators=n_estimators,\n",
    "            max_depth=max_depth,\n",
    "            min_samples_split=min_samples_split,\n",
    "            min_samples_leaf=min_samples_leaf,\n",
    "            random_state=RANDOM_SEED\n",
    "        ))\n",
    "    ])\n",
    "        \n",
    "    pipeline.fit(X_train, y_train)\n",
    "\n",
    "    y_pred_train = pipeline.predict(X_train)\n",
    "    y_pred_val = pipeline.predict(X_val)\n",
    "    y_test_pred = pipeline.named_steps['classifier'].predict(X_test_scaled)\n",
    "    \n",
    "    prec_train = precision_score(y_train, y_pred_train, average='macro', zero_division=0)\n",
    "    prec_val = precision_score(y_val, y_pred_val, average='macro', zero_division=0)\n",
    "    prec_test = precision_score(y_test, y_test_pred, average='macro', zero_division=0)\n",
    "\n",
    "    precisions_train.append(prec_train)\n",
    "    precisions_val.append(prec_val)\n",
    "    precisions_test.append(prec_test)\n",
    "\n",
    "    return -prec_val  # Hyperopt minimizes the objective function, so we negate precision\n",
    "\n",
    "space = {\n",
    "    'n_estimators': hp.quniform('n_estimators', 50, 300, 1),\n",
    "    'max_depth': hp.quniform('max_depth', 2, 15, 1),\n",
    "    'min_samples_split': hp.uniform('min_samples_split', 0.1, 1.0),\n",
    "    'min_samples_leaf': hp.uniform('min_samples_leaf', 0.1, 1.0),\n",
    "}"
   ]
  },
  {
   "cell_type": "code",
   "execution_count": 16,
   "metadata": {},
   "outputs": [
    {
     "name": "stdout",
     "output_type": "stream",
     "text": [
      "100%|██████████| 5/5 [00:30<00:00,  6.06s/trial, best loss: -0.020583075335397317]\n"
     ]
    }
   ],
   "source": [
    "start_time = time.time()\n",
    "\n",
    "best = fmin(fn=objective, \n",
    "            space=space, \n",
    "            algo=tpe.suggest, \n",
    "            max_evals=N_ITER)\n",
    "\n",
    "elapsed_time = time.time() - start_time\n",
    "elapsed_minutes, elapsed_seconds = int(elapsed_time // 60), int(elapsed_time % 60)"
   ]
  },
  {
   "cell_type": "code",
   "execution_count": 17,
   "metadata": {},
   "outputs": [
    {
     "name": "stdout",
     "output_type": "stream",
     "text": [
      "\n",
      "Hyperopt Results\n",
      "===============\n",
      "                Train     Test      Delta(train,test)   \n",
      "    Accuracy  : 0.2058    0.2058       -0.0000\n",
      "    Precision : 0.0206    0.0206       -0.0000\n",
      "    Recall    : 0.1000    0.1000        0.0000\n",
      "    F1-Score  : 0.0341    0.0341       -0.0000\n",
      "\n",
      "Tuning time: 0 min 30 sec\n",
      "\n",
      "Best parameters:\n",
      "\n",
      "{'max_depth': 14.0,\n",
      " 'min_samples_leaf': 0.9555841385784895,\n",
      " 'min_samples_split': 0.5110664897056911,\n",
      " 'n_estimators': 299.0}\n"
     ]
    }
   ],
   "source": [
    "# The searched optimal parameters.\n",
    "best_params = best  # Assuming `best` is the dictionary containing the best parameters from Hyperopt.\n",
    "\n",
    "# Create the pipeline with the searched optimal parameters.\n",
    "best_rfc = Pipeline([\n",
    "    ('scaler', StandardScaler()),\n",
    "    ('classifier', RandomForestClassifier(\n",
    "        n_estimators=int(best_params['n_estimators']),\n",
    "        max_depth=int(best_params['max_depth']),\n",
    "        min_samples_split=best_params['min_samples_split'],\n",
    "        min_samples_leaf=best_params['min_samples_leaf'],\n",
    "        random_state=RANDOM_SEED,\n",
    "    ))\n",
    "])\n",
    "\n",
    "# Train the final model on the searched optimal parameters.\n",
    "best_rfc.fit(X_train_scaled, y_train)\n",
    "\n",
    "# Train metrics.\n",
    "y_train_pred = best_rfc.predict(X_train_scaled)\n",
    "train_acc = accuracy_score(y_train, y_train_pred)\n",
    "train_prec = precision_score(y_train, y_train_pred, average='macro', zero_division=0)\n",
    "train_rec = recall_score(y_train, y_train_pred, average='macro', zero_division=0)\n",
    "train_f1 = f1_score(y_train, y_train_pred, average='macro', zero_division=0)\n",
    "\n",
    "# Test metrics.\n",
    "y_test_pred = best_rfc.predict(X_test_scaled)\n",
    "test_acc = accuracy_score(y_test, y_test_pred)\n",
    "test_prec = precision_score(y_test, y_test_pred, average='macro', zero_division=0)\n",
    "test_rec = recall_score(y_test, y_test_pred, average='macro', zero_division=0)\n",
    "test_f1 = f1_score(y_test, y_test_pred, average='macro', zero_division=0)\n",
    "\n",
    "print(f\"\"\"\n",
    "Hyperopt Results\n",
    "===============\n",
    "                {'Train':<10}{'Test':<10}{'Delta(train,test)':<20}\n",
    "    Accuracy  : {train_acc:<10.4f}{test_acc:<10.4f}{test_acc-train_acc:10.4f}\n",
    "    Precision : {train_prec:<10.4f}{test_prec:<10.4f}{test_prec-train_prec:10.4f}\n",
    "    Recall    : {train_rec:<10.4f}{test_rec:<10.4f}{test_rec-train_rec:10.4f}\n",
    "    F1-Score  : {train_f1:<10.4f}{test_f1:<10.4f}{test_f1-train_f1:10.4f}\n",
    "\n",
    "Tuning time: {elapsed_minutes} min {elapsed_seconds} sec\n",
    "\n",
    "Best parameters:\n",
    "\"\"\")\n",
    "pp = pprint.PrettyPrinter()\n",
    "pp.pprint(best_params)\n"
   ]
  },
  {
   "cell_type": "markdown",
   "metadata": {},
   "source": [
    "#### Plots"
   ]
  },
  {
   "cell_type": "code",
   "execution_count": 19,
   "metadata": {},
   "outputs": [
    {
     "data": {
      "image/png": "[encoded data removed]",
      "text/plain": [
       "<Figure size 800x500 with 2 Axes>"
      ]
     },
     "metadata": {},
     "output_type": "display_data"
    }
   ],
   "source": [
    "cm = confusion_matrix(y_test, y_test_pred)\n",
    "class_labels = np.unique(y_test)\n",
    "\n",
    "plt.figure(figsize=(8, 5))\n",
    "sns.heatmap(cm, \n",
    "            annot=True, \n",
    "            cmap='coolwarm', \n",
    "            fmt='d', \n",
    "            xticklabels=class_labels, \n",
    "            yticklabels=class_labels)\n",
    "plt.xlabel('Predicted')\n",
    "plt.ylabel('True')\n",
    "plt.title('RFC Optuna')\n",
    "\n",
    "plt.savefig('../../imgs/spotify_tracks/rfc_cm_hyperopt.png', dpi=300, bbox_inches='tight')\n",
    "\n",
    "plt.show()"
   ]
  },
  {
   "cell_type": "code",
   "execution_count": 21,
   "metadata": {},
   "outputs": [
    {
     "data": {
      "image/png": "[encoded data removed]",
      "text/plain": [
       "<Figure size 800x200 with 1 Axes>"
      ]
     },
     "metadata": {},
     "output_type": "display_data"
    }
   ],
   "source": [
    "plt.figure(figsize=(8, 2))\n",
    "\n",
    "plt.plot(np.arange(1, N_ITER+1, 1), precisions_train, label='Train', alpha=0.7, color='C0');\n",
    "plt.plot(np.arange(1, N_ITER+1, 1), precisions_test, label='Test', alpha=0.7, color='C1');\n",
    "\n",
    "plt.xlabel(\"# Trials\");\n",
    "plt.ylabel(\"Precision\");\n",
    "plt.legend();\n",
    "\n",
    "plt.title(\"Optuna\");\n",
    "plt.show();"
   ]
  },
  {
   "cell_type": "code",
   "execution_count": null,
   "metadata": {},
   "outputs": [],
   "source": []
  }
 ],
 "metadata": {
  "interpreter": {
   "hash": "c8d00f3e87b3b5822c5680339ba65b07adfd9e81a6bb96fb0d82429a47b2b81b"
  },
  "kernelspec": {
   "display_name": "Python 3.11.4 ('bayes-opt-battle')",
   "language": "python",
   "name": "python3"
  },
  "language_info": {
   "codemirror_mode": {
    "name": "ipython",
    "version": 3
   },
   "file_extension": ".py",
   "mimetype": "text/x-python",
   "name": "python",
   "nbconvert_exporter": "python",
   "pygments_lexer": "ipython3",
   "version": "3.11.4"
  },
  "orig_nbformat": 4
 },
 "nbformat": 4,
 "nbformat_minor": 2
}
