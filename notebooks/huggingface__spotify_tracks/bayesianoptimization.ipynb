{
 "cells": [
  {
   "cell_type": "code",
   "execution_count": 1,
   "metadata": {},
   "outputs": [],
   "source": [
    "\n",
    "# General imports.import pprint\n",
    "import time\n",
    "import pandas as pd\n",
    "import numpy as np\n",
    "import matplotlib.pyplot as plt\n",
    "import seaborn as sns\n",
    "import pprint\n",
    "\n",
    "# ML-related imports\n",
    "from bayes_opt import BayesianOptimization\n",
    "from sklearn.model_selection import train_test_split\n",
    "from sklearn.preprocessing import StandardScaler\n",
    "from sklearn.linear_model import LogisticRegression\n",
    "from sklearn.ensemble import RandomForestClassifier\n",
    "from sklearn.metrics import accuracy_score, precision_score, recall_score, f1_score\n",
    "from sklearn.metrics import confusion_matrix\n",
    "from sklearn.metrics import classification_report\n",
    "from sklearn.pipeline import Pipeline\n",
    "\n",
    "# Huggingface datasets.\n",
    "from datasets import load_dataset"
   ]
  },
  {
   "cell_type": "markdown",
   "metadata": {},
   "source": [
    "# Comparison of Bayesian Optimization Frameworks\n",
    "\n",
    "In this notebook we are going to compare different bayesian optimization libraries against each other. To compare our results we will use [Huggingfaces spotify tracks dataset](https://huggingface.co/datasets/maharshipandya/spotify-tracks-dataset) dataset. We performed a short EDA on this dataset in [notebooks/eda__spotify_tracks.ipynb](https://github.com/PeeteKeesel/bayes-opt-battle/blob/7fed8d739c1b02c84a1eff05c0d3a44cb108e686/notebooks/huggingface__spotify_tracks/eda__spotify_tracks.ipynb).  "
   ]
  },
  {
   "cell_type": "markdown",
   "metadata": {},
   "source": [
    "## Global Settings"
   ]
  },
  {
   "cell_type": "code",
   "execution_count": 2,
   "metadata": {},
   "outputs": [],
   "source": [
    "RANDOM_SEED = 42"
   ]
  },
  {
   "cell_type": "code",
   "execution_count": 3,
   "metadata": {},
   "outputs": [
    {
     "name": "stdout",
     "output_type": "stream",
     "text": [
      "Shape: {'train': (114000, 21)}\n"
     ]
    }
   ],
   "source": [
    "dataset = load_dataset('maharshipandya/spotify-tracks-dataset')\n",
    "print(f\"Shape: {dataset.shape}\")"
   ]
  },
  {
   "cell_type": "code",
   "execution_count": 4,
   "metadata": {},
   "outputs": [
    {
     "name": "stdout",
     "output_type": "stream",
     "text": [
      "Shape: (114000, 21)\n",
      "<class 'pandas.core.frame.DataFrame'>\n",
      "RangeIndex: 114000 entries, 0 to 113999\n",
      "Data columns (total 21 columns):\n",
      " #   Column            Non-Null Count   Dtype  \n",
      "---  ------            --------------   -----  \n",
      " 0   Unnamed: 0        114000 non-null  int64  \n",
      " 1   track_id          114000 non-null  object \n",
      " 2   artists           113999 non-null  object \n",
      " 3   album_name        113999 non-null  object \n",
      " 4   track_name        113999 non-null  object \n",
      " 5   popularity        114000 non-null  int64  \n",
      " 6   duration_ms       114000 non-null  int64  \n",
      " 7   explicit          114000 non-null  bool   \n",
      " 8   danceability      114000 non-null  float64\n",
      " 9   energy            114000 non-null  float64\n",
      " 10  key               114000 non-null  int64  \n",
      " 11  loudness          114000 non-null  float64\n",
      " 12  mode              114000 non-null  int64  \n",
      " 13  speechiness       114000 non-null  float64\n",
      " 14  acousticness      114000 non-null  float64\n",
      " 15  instrumentalness  114000 non-null  float64\n",
      " 16  liveness          114000 non-null  float64\n",
      " 17  valence           114000 non-null  float64\n",
      " 18  tempo             114000 non-null  float64\n",
      " 19  time_signature    114000 non-null  int64  \n",
      " 20  track_genre       114000 non-null  object \n",
      "dtypes: bool(1), float64(9), int64(6), object(5)\n",
      "memory usage: 17.5+ MB\n"
     ]
    }
   ],
   "source": [
    "df = pd.DataFrame(dataset.get('train'))\n",
    "print(f\"Shape: {df.shape}\")\n",
    "df.info()"
   ]
  },
  {
   "cell_type": "code",
   "execution_count": 5,
   "metadata": {},
   "outputs": [
    {
     "name": "stdout",
     "output_type": "stream",
     "text": [
      "There are 6 int features in the dataset\n",
      "There are 9 float features in the dataset\n"
     ]
    }
   ],
   "source": [
    "INT_FEATURES = df.select_dtypes(include=['int64', 'int32']).columns.tolist()\n",
    "print(f\"There are {len(INT_FEATURES)} int features in the dataset\")\n",
    "\n",
    "FLOAT_FEATURES = df.select_dtypes(include=['float64', 'float32']).columns.tolist()\n",
    "print(f\"There are {len(FLOAT_FEATURES)} float features in the dataset\")\n",
    "\n",
    "FEATURES = INT_FEATURES + FLOAT_FEATURES\n",
    "TARGET_PRIOR = 'popularity'"
   ]
  },
  {
   "cell_type": "code",
   "execution_count": 6,
   "metadata": {},
   "outputs": [
    {
     "data": {
      "text/plain": [
       "0    23462\n",
       "4    18904\n",
       "2    17579\n",
       "3    15570\n",
       "5    14200\n",
       "1    10715\n",
       "6     8724\n",
       "7     3892\n",
       "8      886\n",
       "9       68\n",
       "Name: popularity_bucket, dtype: int64"
      ]
     },
     "execution_count": 6,
     "metadata": {},
     "output_type": "execute_result"
    }
   ],
   "source": [
    "bins = np.arange(0, 101, 10)\n",
    "labels = np.arange(0, len(bins)-1, 1)\n",
    "assert len(bins) == len(labels)+1, f\"len(bins) = {len(bins)} != {len(labels)}+1 = len(labels)\"\n",
    "\n",
    "df['popularity_bucket'] = pd.cut(df[TARGET_PRIOR], \n",
    "                                 bins=bins, \n",
    "                                 labels=labels, \n",
    "                                 include_lowest=True)\n",
    "\n",
    "TARGET = 'popularity_bucket' \n",
    "df['popularity_bucket'].value_counts()     "
   ]
  },
  {
   "cell_type": "code",
   "execution_count": 7,
   "metadata": {},
   "outputs": [],
   "source": [
    "def predict_and_summarize(X_train_scaled,\n",
    "                          X_test_scaled, \n",
    "                          y_train, \n",
    "                          y_test,\n",
    "                          clf,\n",
    "                          model_type):\n",
    "\n",
    "    y_pred_train = clf.predict(X_train_scaled)\n",
    "    train_acc = accuracy_score(y_train, y_pred_train)\n",
    "    train_prec = precision_score(y_train, y_pred_train, average='macro', zero_division=0)\n",
    "    train_rec = recall_score(y_train, y_pred_train, average='macro', zero_division=0)\n",
    "    train_f1 = f1_score(y_train, y_pred_train, average='macro', zero_division=0)\n",
    "\n",
    "    y_pred = clf.predict(X_test_scaled)\n",
    "    test_acc = accuracy_score(y_test, y_pred)\n",
    "    test_prec = precision_score(y_test, y_pred, average='macro', zero_division=0)\n",
    "    test_rec = recall_score(y_test, y_pred, average='macro', zero_division=0)\n",
    "    test_f1 = f1_score(y_test, y_pred, average='macro', zero_division=0)\n",
    "\n",
    "    print(f\"\"\"\n",
    "    Performance Results : {model_type} \n",
    "    ========================================\n",
    "                    {'Train':<10}{'Test':<10}\n",
    "        Accuracy  : {train_acc:<10.4f}{test_acc:<10.4f}\n",
    "        Precision : {train_prec:<10.4f}{test_prec:<10.4f}\n",
    "        Recall    : {train_rec:<10.4f}{test_rec:<10.4f}\n",
    "        F1-Score  : {train_f1:<10.4f}{test_f1:<10.4f}\n",
    "    \"\"\")\n",
    "\n",
    "    return {'y_pred_train': y_pred_train, 'y_pred_test': y_pred}"
   ]
  },
  {
   "cell_type": "markdown",
   "metadata": {},
   "source": [
    "## Dataset Preparation"
   ]
  },
  {
   "cell_type": "code",
   "execution_count": 8,
   "metadata": {},
   "outputs": [
    {
     "name": "stdout",
     "output_type": "stream",
     "text": [
      "\n",
      "Shapes\n",
      "======\n",
      "    train: (96900, 15)\n",
      "    test : (17100, 15)      \n",
      "\n"
     ]
    }
   ],
   "source": [
    "X_train, X_test, y_train, y_test = train_test_split(df[FEATURES], \n",
    "                                                    df[TARGET], \n",
    "                                                    test_size=0.15,\n",
    "                                                    random_state=RANDOM_SEED,\n",
    "                                                    stratify=df[TARGET])\n",
    "print(f\"\"\"\n",
    "Shapes\n",
    "======\n",
    "    train: {X_train.shape}\n",
    "    test : {X_test.shape}      \n",
    "\"\"\")"
   ]
  },
  {
   "cell_type": "code",
   "execution_count": 9,
   "metadata": {},
   "outputs": [],
   "source": [
    "scaler = StandardScaler()\n",
    "X_train_scaled = scaler.fit_transform(X_train)\n",
    "X_test_scaled = scaler.transform(X_test)"
   ]
  },
  {
   "cell_type": "markdown",
   "metadata": {},
   "source": [
    "## Bayesian Hyperparameter Optimization\n",
    "\n",
    "Now we will tune the models hyperparameters using different libraries provided by Python.\n",
    "\n",
    "We will use `Precision` as our optimization metric."
   ]
  },
  {
   "cell_type": "code",
   "execution_count": 10,
   "metadata": {},
   "outputs": [
    {
     "name": "stdout",
     "output_type": "stream",
     "text": [
      "\n",
      "Shapes\n",
      "======\n",
      "    train : (77520, 15)\n",
      "    val   : (19380, 15)\n",
      "    test  : (17100, 15)\n",
      "\n"
     ]
    }
   ],
   "source": [
    "X_tra, X_val, y_tra, y_val = train_test_split(X_train,\n",
    "                                              y_train, \n",
    "                                              test_size=0.2, \n",
    "                                              random_state=RANDOM_SEED,\n",
    "                                              stratify=y_train)\n",
    "print(f\"\"\"\n",
    "Shapes\n",
    "======\n",
    "    train : {X_tra.shape}\n",
    "    val   : {X_val.shape}\n",
    "    test  : {X_test.shape}\n",
    "\"\"\")"
   ]
  },
  {
   "cell_type": "markdown",
   "metadata": {},
   "source": [
    "---\n",
    "\n",
    "## `BayesianOptimization`"
   ]
  },
  {
   "cell_type": "code",
   "execution_count": 17,
   "metadata": {},
   "outputs": [],
   "source": [
    "N_ITER = 5"
   ]
  },
  {
   "cell_type": "code",
   "execution_count": 19,
   "metadata": {},
   "outputs": [
    {
     "name": "stdout",
     "output_type": "stream",
     "text": [
      "|   iter    |  target   | max_depth | min_sa... | min_sa... | n_esti... |\n",
      "-------------------------------------------------------------------------\n",
      "| \u001b[0m1        \u001b[0m | \u001b[0m0.02058  \u001b[0m | \u001b[0m6.869    \u001b[0m | \u001b[0m0.9556   \u001b[0m | \u001b[0m0.7588   \u001b[0m | \u001b[0m199.7    \u001b[0m |\n",
      "| \u001b[0m2        \u001b[0m | \u001b[0m0.02058  \u001b[0m | \u001b[0m11.4     \u001b[0m | \u001b[0m0.7013   \u001b[0m | \u001b[0m0.3006   \u001b[0m | \u001b[0m65.97    \u001b[0m |\n",
      "| \u001b[0m3        \u001b[0m | \u001b[0m0.02058  \u001b[0m | \u001b[0m14.96    \u001b[0m | \u001b[0m0.305    \u001b[0m | \u001b[0m0.9839   \u001b[0m | \u001b[0m299.4    \u001b[0m |\n",
      "| \u001b[95m4        \u001b[0m | \u001b[95m0.2791   \u001b[0m | \u001b[95m2.835    \u001b[0m | \u001b[95m0.176    \u001b[0m | \u001b[95m0.2263   \u001b[0m | \u001b[95m50.11    \u001b[0m |\n",
      "| \u001b[0m5        \u001b[0m | \u001b[0m0.02058  \u001b[0m | \u001b[0m14.62    \u001b[0m | \u001b[0m0.7386   \u001b[0m | \u001b[0m0.9945   \u001b[0m | \u001b[0m143.5    \u001b[0m |\n",
      "| \u001b[0m6        \u001b[0m | \u001b[0m0.02058  \u001b[0m | \u001b[0m8.13     \u001b[0m | \u001b[0m0.2444   \u001b[0m | \u001b[0m0.8218   \u001b[0m | \u001b[0m74.13    \u001b[0m |\n",
      "=========================================================================\n"
     ]
    }
   ],
   "source": [
    "accuracies_train, precisions_train, recalls_train, f1s_train = [], [], [], []\n",
    "accuracies_val, precisions_val, recalls_val, f1s_val = [], [], [], []\n",
    "accuracies_test, precisions_test, recalls_test, f1s_test = [], [], [], []\n",
    "\n",
    "def objective(n_estimators, max_depth, min_samples_split, min_samples_leaf):\n",
    "    pipeline = Pipeline([\n",
    "        ('scaler', StandardScaler()),\n",
    "        ('classifier', RandomForestClassifier(\n",
    "            n_estimators=int(n_estimators),\n",
    "            max_depth=int(max_depth),\n",
    "            min_samples_split=min_samples_split,\n",
    "            min_samples_leaf=min_samples_leaf,\n",
    "            random_state=RANDOM_SEED\n",
    "        ))\n",
    "    ])\n",
    "        \n",
    "    pipeline.fit(X_train, y_train)\n",
    "\n",
    "    y_pred_train = pipeline.predict(X_train)\n",
    "    y_pred_val = pipeline.predict(X_val)\n",
    "    y_test_pred = pipeline.named_steps['classifier'].predict(X_test_scaled)\n",
    "    \n",
    "    prec_train = precision_score(y_train, y_pred_train, average='macro', zero_division=0)\n",
    "    prec_val = precision_score(y_val, y_pred_val, average='macro', zero_division=0)\n",
    "    prec_test = precision_score(y_test, y_test_pred, average='macro', zero_division=0)\n",
    "\n",
    "    precisions_train.append(prec_train)\n",
    "    precisions_val.append(prec_val)\n",
    "    precisions_test.append(prec_test)\n",
    "\n",
    "    return prec_val\n",
    "\n",
    "pbounds = {\n",
    "    'n_estimators': (50, 300),\n",
    "    'max_depth': (2, 15),\n",
    "    'min_samples_split': (0.1, 1.0),\n",
    "    'min_samples_leaf': (0.1, 1.0),\n",
    "}\n",
    "\n",
    "optimizer = BayesianOptimization(\n",
    "    f=objective,\n",
    "    pbounds=pbounds,\n",
    "    random_state=RANDOM_SEED,\n",
    ")\n",
    "\n",
    "start_time = time.time()\n",
    "\n",
    "# Maximize the optimization function.\n",
    "optimizer.maximize(init_points=1, n_iter=N_ITER)\n",
    "\n",
    "elapsed_time = time.time() - start_time\n",
    "elapsed_minutes, elapsed_seconds = int(elapsed_time // 60), int(elapsed_time % 60)"
   ]
  },
  {
   "cell_type": "code",
   "execution_count": 32,
   "metadata": {},
   "outputs": [
    {
     "name": "stdout",
     "output_type": "stream",
     "text": [
      "\n",
      "BayesianOptimization Results\n",
      "============================\n",
      "                Train     Test      Delta(train,test)   \n",
      "    Accuracy  : 0.4859    0.4874        0.0015\n",
      "    Precision : 0.2789    0.2779       -0.0010\n",
      "    Recall    : 0.2744    0.2753        0.0010\n",
      "    F1-Score  : 0.2060    0.2066        0.0006\n",
      "\n",
      "Tuning time: 0 min 23 sec\n",
      "\n",
      "Best parameters:\n",
      "\n",
      "{'max_depth': 2.8348728122371676,\n",
      " 'min_samples_leaf': 0.17601450450786865,\n",
      " 'min_samples_split': 0.22633410683210597,\n",
      " 'n_estimators': 50.10900357679988}\n"
     ]
    }
   ],
   "source": [
    "# The searched optimal parameters.\n",
    "best_params = optimizer.max.get('params')\n",
    "\n",
    "# Create the pipeline with the searched optimal parameters.\n",
    "best_rfc = Pipeline([\n",
    "    ('scaler', StandardScaler()),\n",
    "    ('classifier', RandomForestClassifier(\n",
    "        n_estimators=int(best_params['n_estimators']),\n",
    "        max_depth=int(best_params['max_depth']),\n",
    "        min_samples_split=best_params['min_samples_split'],\n",
    "        min_samples_leaf=best_params['min_samples_leaf'],\n",
    "        random_state=RANDOM_SEED,\n",
    "    ))\n",
    "])\n",
    "\n",
    "# Train the final model on the searched optimal parameters.\n",
    "best_rfc.fit(X_train_scaled, y_train)\n",
    "\n",
    "# Train metrics.\n",
    "y_train_pred = best_rfc.predict(X_train_scaled)\n",
    "train_acc = accuracy_score(y_train, y_train_pred)\n",
    "train_prec = precision_score(y_train, y_train_pred, average='macro', zero_division=0)\n",
    "train_rec = recall_score(y_train, y_train_pred, average='macro', zero_division=0)\n",
    "train_f1 = f1_score(y_train, y_train_pred, average='macro', zero_division=0)\n",
    "\n",
    "# Test metrics.\n",
    "y_test_pred = best_rfc.predict(X_test_scaled)\n",
    "test_acc = accuracy_score(y_test, y_test_pred)\n",
    "test_prec = precision_score(y_test, y_test_pred, average='macro', zero_division=0)\n",
    "test_rec = recall_score(y_test, y_test_pred, average='macro', zero_division=0)\n",
    "test_f1 = f1_score(y_test, y_test_pred, average='macro', zero_division=0)\n",
    "\n",
    "print(f\"\"\"\n",
    "BayesianOptimization Results\n",
    "============================\n",
    "                {'Train':<10}{'Test':<10}{'Delta(train,test)':<20}\n",
    "    Accuracy  : {train_acc:<10.4f}{test_acc:<10.4f}{test_acc-train_acc:10.4f}\n",
    "    Precision : {train_prec:<10.4f}{test_prec:<10.4f}{test_prec-train_prec:10.4f}\n",
    "    Recall    : {train_rec:<10.4f}{test_rec:<10.4f}{test_rec-train_rec:10.4f}\n",
    "    F1-Score  : {train_f1:<10.4f}{test_f1:<10.4f}{test_f1-train_f1:10.4f}\n",
    "\n",
    "Tuning time: {elapsed_minutes} min {elapsed_seconds} sec\n",
    "\n",
    "Best parameters:\n",
    "\"\"\")\n",
    "pp = pprint.PrettyPrinter()\n",
    "pp.pprint(best_params)"
   ]
  },
  {
   "cell_type": "markdown",
   "metadata": {},
   "source": [
    "#### Plots"
   ]
  },
  {
   "cell_type": "code",
   "execution_count": 36,
   "metadata": {},
   "outputs": [
    {
     "data": {
      "image/png": "[encoded data removed]",
      "text/plain": [
       "<Figure size 800x500 with 2 Axes>"
      ]
     },
     "metadata": {},
     "output_type": "display_data"
    }
   ],
   "source": [
    "cm = confusion_matrix(y_test, y_test_pred)\n",
    "class_labels = np.unique(y_test)\n",
    "\n",
    "plt.figure(figsize=(8, 5))\n",
    "sns.heatmap(cm, \n",
    "            annot=True, \n",
    "            cmap='coolwarm', \n",
    "            fmt='d', \n",
    "            xticklabels=class_labels, \n",
    "            yticklabels=class_labels)\n",
    "plt.xlabel('Predicted')\n",
    "plt.ylabel('True')\n",
    "plt.title('RFC BayesianOptimization')\n",
    "\n",
    "plt.savefig('../../imgs/spotify_tracks/rfc_cm_bayesianoptimization.png', dpi=300, bbox_inches='tight')\n",
    "\n",
    "plt.show()"
   ]
  },
  {
   "cell_type": "code",
   "execution_count": 35,
   "metadata": {},
   "outputs": [
    {
     "ename": "ValueError",
     "evalue": "x and y must have same first dimension, but have shapes (5,) and (6,)",
     "output_type": "error",
     "traceback": [
      "\u001b[0;31m---------------------------------------------------------------------------\u001b[0m",
      "\u001b[0;31mValueError\u001b[0m                                Traceback (most recent call last)",
      "Cell \u001b[0;32mIn[35], line 3\u001b[0m\n\u001b[1;32m      1\u001b[0m plt\u001b[39m.\u001b[39mfigure(figsize\u001b[39m=\u001b[39m(\u001b[39m8\u001b[39m, \u001b[39m2\u001b[39m))\n\u001b[0;32m----> 3\u001b[0m plt\u001b[39m.\u001b[39mplot(np\u001b[39m.\u001b[39marange(\u001b[39m1\u001b[39m, N_ITER\u001b[39m+\u001b[39m\u001b[39m1\u001b[39m, \u001b[39m1\u001b[39m), precisions_train, label\u001b[39m=\u001b[39m\u001b[39m'\u001b[39m\u001b[39mTrain\u001b[39m\u001b[39m'\u001b[39m, alpha\u001b[39m=\u001b[39m\u001b[39m0.7\u001b[39m, color\u001b[39m=\u001b[39m\u001b[39m'\u001b[39m\u001b[39mC0\u001b[39m\u001b[39m'\u001b[39m);\n\u001b[1;32m      4\u001b[0m plt\u001b[39m.\u001b[39mplot(np\u001b[39m.\u001b[39marange(\u001b[39m1\u001b[39m, N_ITER\u001b[39m+\u001b[39m\u001b[39m1\u001b[39m, \u001b[39m1\u001b[39m), precisions_test, label\u001b[39m=\u001b[39m\u001b[39m'\u001b[39m\u001b[39mTest\u001b[39m\u001b[39m'\u001b[39m, alpha\u001b[39m=\u001b[39m\u001b[39m0.7\u001b[39m, color\u001b[39m=\u001b[39m\u001b[39m'\u001b[39m\u001b[39mC1\u001b[39m\u001b[39m'\u001b[39m);\n\u001b[1;32m      6\u001b[0m plt\u001b[39m.\u001b[39mxlabel(\u001b[39m\"\u001b[39m\u001b[39m# Trials\u001b[39m\u001b[39m\"\u001b[39m);\n",
      "File \u001b[0;32m~/opt/anaconda3/envs/bayes_opt_battle_4/lib/python3.11/site-packages/matplotlib/pyplot.py:2812\u001b[0m, in \u001b[0;36mplot\u001b[0;34m(scalex, scaley, data, *args, **kwargs)\u001b[0m\n\u001b[1;32m   2810\u001b[0m \u001b[39m@_copy_docstring_and_deprecators\u001b[39m(Axes\u001b[39m.\u001b[39mplot)\n\u001b[1;32m   2811\u001b[0m \u001b[39mdef\u001b[39;00m \u001b[39mplot\u001b[39m(\u001b[39m*\u001b[39margs, scalex\u001b[39m=\u001b[39m\u001b[39mTrue\u001b[39;00m, scaley\u001b[39m=\u001b[39m\u001b[39mTrue\u001b[39;00m, data\u001b[39m=\u001b[39m\u001b[39mNone\u001b[39;00m, \u001b[39m*\u001b[39m\u001b[39m*\u001b[39mkwargs):\n\u001b[0;32m-> 2812\u001b[0m     \u001b[39mreturn\u001b[39;00m gca()\u001b[39m.\u001b[39mplot(\n\u001b[1;32m   2813\u001b[0m         \u001b[39m*\u001b[39margs, scalex\u001b[39m=\u001b[39mscalex, scaley\u001b[39m=\u001b[39mscaley,\n\u001b[1;32m   2814\u001b[0m         \u001b[39m*\u001b[39m\u001b[39m*\u001b[39m({\u001b[39m\"\u001b[39m\u001b[39mdata\u001b[39m\u001b[39m\"\u001b[39m: data} \u001b[39mif\u001b[39;00m data \u001b[39mis\u001b[39;00m \u001b[39mnot\u001b[39;00m \u001b[39mNone\u001b[39;00m \u001b[39melse\u001b[39;00m {}), \u001b[39m*\u001b[39m\u001b[39m*\u001b[39mkwargs)\n",
      "File \u001b[0;32m~/opt/anaconda3/envs/bayes_opt_battle_4/lib/python3.11/site-packages/matplotlib/axes/_axes.py:1688\u001b[0m, in \u001b[0;36mAxes.plot\u001b[0;34m(self, scalex, scaley, data, *args, **kwargs)\u001b[0m\n\u001b[1;32m   1445\u001b[0m \u001b[39m\u001b[39m\u001b[39m\"\"\"\u001b[39;00m\n\u001b[1;32m   1446\u001b[0m \u001b[39mPlot y versus x as lines and/or markers.\u001b[39;00m\n\u001b[1;32m   1447\u001b[0m \n\u001b[0;32m   (...)\u001b[0m\n\u001b[1;32m   1685\u001b[0m \u001b[39m(``'green'``) or hex strings (``'#008000'``).\u001b[39;00m\n\u001b[1;32m   1686\u001b[0m \u001b[39m\"\"\"\u001b[39;00m\n\u001b[1;32m   1687\u001b[0m kwargs \u001b[39m=\u001b[39m cbook\u001b[39m.\u001b[39mnormalize_kwargs(kwargs, mlines\u001b[39m.\u001b[39mLine2D)\n\u001b[0;32m-> 1688\u001b[0m lines \u001b[39m=\u001b[39m [\u001b[39m*\u001b[39m\u001b[39mself\u001b[39m\u001b[39m.\u001b[39m_get_lines(\u001b[39m*\u001b[39margs, data\u001b[39m=\u001b[39mdata, \u001b[39m*\u001b[39m\u001b[39m*\u001b[39mkwargs)]\n\u001b[1;32m   1689\u001b[0m \u001b[39mfor\u001b[39;00m line \u001b[39min\u001b[39;00m lines:\n\u001b[1;32m   1690\u001b[0m     \u001b[39mself\u001b[39m\u001b[39m.\u001b[39madd_line(line)\n",
      "File \u001b[0;32m~/opt/anaconda3/envs/bayes_opt_battle_4/lib/python3.11/site-packages/matplotlib/axes/_base.py:311\u001b[0m, in \u001b[0;36m_process_plot_var_args.__call__\u001b[0;34m(self, data, *args, **kwargs)\u001b[0m\n\u001b[1;32m    309\u001b[0m     this \u001b[39m+\u001b[39m\u001b[39m=\u001b[39m args[\u001b[39m0\u001b[39m],\n\u001b[1;32m    310\u001b[0m     args \u001b[39m=\u001b[39m args[\u001b[39m1\u001b[39m:]\n\u001b[0;32m--> 311\u001b[0m \u001b[39myield from\u001b[39;00m \u001b[39mself\u001b[39m\u001b[39m.\u001b[39m_plot_args(\n\u001b[1;32m    312\u001b[0m     this, kwargs, ambiguous_fmt_datakey\u001b[39m=\u001b[39mambiguous_fmt_datakey)\n",
      "File \u001b[0;32m~/opt/anaconda3/envs/bayes_opt_battle_4/lib/python3.11/site-packages/matplotlib/axes/_base.py:504\u001b[0m, in \u001b[0;36m_process_plot_var_args._plot_args\u001b[0;34m(self, tup, kwargs, return_kwargs, ambiguous_fmt_datakey)\u001b[0m\n\u001b[1;32m    501\u001b[0m     \u001b[39mself\u001b[39m\u001b[39m.\u001b[39maxes\u001b[39m.\u001b[39myaxis\u001b[39m.\u001b[39mupdate_units(y)\n\u001b[1;32m    503\u001b[0m \u001b[39mif\u001b[39;00m x\u001b[39m.\u001b[39mshape[\u001b[39m0\u001b[39m] \u001b[39m!=\u001b[39m y\u001b[39m.\u001b[39mshape[\u001b[39m0\u001b[39m]:\n\u001b[0;32m--> 504\u001b[0m     \u001b[39mraise\u001b[39;00m \u001b[39mValueError\u001b[39;00m(\u001b[39mf\u001b[39m\u001b[39m\"\u001b[39m\u001b[39mx and y must have same first dimension, but \u001b[39m\u001b[39m\"\u001b[39m\n\u001b[1;32m    505\u001b[0m                      \u001b[39mf\u001b[39m\u001b[39m\"\u001b[39m\u001b[39mhave shapes \u001b[39m\u001b[39m{\u001b[39;00mx\u001b[39m.\u001b[39mshape\u001b[39m}\u001b[39;00m\u001b[39m and \u001b[39m\u001b[39m{\u001b[39;00my\u001b[39m.\u001b[39mshape\u001b[39m}\u001b[39;00m\u001b[39m\"\u001b[39m)\n\u001b[1;32m    506\u001b[0m \u001b[39mif\u001b[39;00m x\u001b[39m.\u001b[39mndim \u001b[39m>\u001b[39m \u001b[39m2\u001b[39m \u001b[39mor\u001b[39;00m y\u001b[39m.\u001b[39mndim \u001b[39m>\u001b[39m \u001b[39m2\u001b[39m:\n\u001b[1;32m    507\u001b[0m     \u001b[39mraise\u001b[39;00m \u001b[39mValueError\u001b[39;00m(\u001b[39mf\u001b[39m\u001b[39m\"\u001b[39m\u001b[39mx and y can be no greater than 2D, but have \u001b[39m\u001b[39m\"\u001b[39m\n\u001b[1;32m    508\u001b[0m                      \u001b[39mf\u001b[39m\u001b[39m\"\u001b[39m\u001b[39mshapes \u001b[39m\u001b[39m{\u001b[39;00mx\u001b[39m.\u001b[39mshape\u001b[39m}\u001b[39;00m\u001b[39m and \u001b[39m\u001b[39m{\u001b[39;00my\u001b[39m.\u001b[39mshape\u001b[39m}\u001b[39;00m\u001b[39m\"\u001b[39m)\n",
      "\u001b[0;31mValueError\u001b[0m: x and y must have same first dimension, but have shapes (5,) and (6,)"
     ]
    },
    {
     "data": {
      "image/png": "[encoded data removed]",
      "text/plain": [
       "<Figure size 800x200 with 1 Axes>"
      ]
     },
     "metadata": {},
     "output_type": "display_data"
    }
   ],
   "source": [
    "plt.figure(figsize=(8, 2))\n",
    "\n",
    "plt.plot(np.arange(1, N_ITER+1, 1), precisions_train, label='Train', alpha=0.7, color='C0');\n",
    "plt.plot(np.arange(1, N_ITER+1, 1), precisions_test, label='Test', alpha=0.7, color='C1');\n",
    "\n",
    "plt.xlabel(\"# Trials\");\n",
    "plt.ylabel(\"Precision\");\n",
    "plt.legend();\n",
    "\n",
    "plt.title(\"Optuna\");\n",
    "plt.show();"
   ]
  },
  {
   "cell_type": "code",
   "execution_count": null,
   "metadata": {},
   "outputs": [],
   "source": []
  }
 ],
 "metadata": {
  "interpreter": {
   "hash": "c8d00f3e87b3b5822c5680339ba65b07adfd9e81a6bb96fb0d82429a47b2b81b"
  },
  "kernelspec": {
   "display_name": "Python 3.11.4 ('bayes-opt-battle')",
   "language": "python",
   "name": "python3"
  },
  "language_info": {
   "codemirror_mode": {
    "name": "ipython",
    "version": 3
   },
   "file_extension": ".py",
   "mimetype": "text/x-python",
   "name": "python",
   "nbconvert_exporter": "python",
   "pygments_lexer": "ipython3",
   "version": "3.11.4"
  },
  "orig_nbformat": 4
 },
 "nbformat": 4,
 "nbformat_minor": 2
}
