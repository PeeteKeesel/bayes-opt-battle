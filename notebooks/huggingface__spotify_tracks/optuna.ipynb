{
 "cells": [
  {
   "cell_type": "code",
   "execution_count": 1,
   "metadata": {},
   "outputs": [],
   "source": [
    "\n",
    "# General imports.import pprint\n",
    "import time\n",
    "import pandas as pd\n",
    "import numpy as np\n",
    "import matplotlib.pyplot as plt\n",
    "import seaborn as sns\n",
    "import pprint\n",
    "\n",
    "# ML-related imports\n",
    "import optuna\n",
    "from sklearn.model_selection import train_test_split\n",
    "from sklearn.preprocessing import StandardScaler\n",
    "from sklearn.linear_model import LogisticRegression\n",
    "from sklearn.ensemble import RandomForestClassifier\n",
    "from sklearn.metrics import accuracy_score, precision_score, recall_score, f1_score\n",
    "from sklearn.metrics import confusion_matrix\n",
    "from sklearn.metrics import classification_report\n",
    "from sklearn.pipeline import Pipeline\n",
    "\n",
    "# Huggingface datasets.\n",
    "from datasets import load_dataset"
   ]
  },
  {
   "cell_type": "markdown",
   "metadata": {},
   "source": [
    "# Comparison of Bayesian Optimization Frameworks\n",
    "\n",
    "In this notebook we are going to compare different bayesian optimization libraries against each other. To compare our results we will use [Huggingfaces spotify tracks dataset](https://huggingface.co/datasets/maharshipandya/spotify-tracks-dataset) dataset. We performed a short EDA on this dataset in [notebooks/eda__spotify_tracks.ipynb](https://github.com/PeeteKeesel/bayes-opt-battle/blob/7fed8d739c1b02c84a1eff05c0d3a44cb108e686/notebooks/huggingface__spotify_tracks/eda__spotify_tracks.ipynb).  "
   ]
  },
  {
   "cell_type": "markdown",
   "metadata": {},
   "source": [
    "## Global Settings"
   ]
  },
  {
   "cell_type": "code",
   "execution_count": 2,
   "metadata": {},
   "outputs": [],
   "source": [
    "RANDOM_SEED = 42"
   ]
  },
  {
   "cell_type": "code",
   "execution_count": 3,
   "metadata": {},
   "outputs": [
    {
     "data": {
      "application/vnd.jupyter.widget-view+json": {
       "model_id": "7f65a64a2121400a86a3bbcac1274b3e",
       "version_major": 2,
       "version_minor": 0
      },
      "text/plain": [
       "Downloading readme:   0%|          | 0.00/4.84k [00:00<?, ?B/s]"
      ]
     },
     "metadata": {},
     "output_type": "display_data"
    },
    {
     "name": "stdout",
     "output_type": "stream",
     "text": [
      "Downloading and preparing dataset csv/maharshipandya--spotify-tracks-dataset to /Users/cwoest/.cache/huggingface/datasets/maharshipandya___csv/maharshipandya--spotify-tracks-dataset-54ededad57b062e8/0.0.0/6954658bab30a358235fa864b05cf819af0e179325c740e4bc853bcc7ec513e1...\n"
     ]
    },
    {
     "data": {
      "application/vnd.jupyter.widget-view+json": {
       "model_id": "de14a3ab94384ed1ab2815f8bb3ba3a6",
       "version_major": 2,
       "version_minor": 0
      },
      "text/plain": [
       "Downloading data files:   0%|          | 0/1 [00:00<?, ?it/s]"
      ]
     },
     "metadata": {},
     "output_type": "display_data"
    },
    {
     "data": {
      "application/vnd.jupyter.widget-view+json": {
       "model_id": "a6d9a90c20374a9bb6d3ef5d2e2990e0",
       "version_major": 2,
       "version_minor": 0
      },
      "text/plain": [
       "Downloading data:   0%|          | 0.00/20.1M [00:00<?, ?B/s]"
      ]
     },
     "metadata": {},
     "output_type": "display_data"
    },
    {
     "data": {
      "application/vnd.jupyter.widget-view+json": {
       "model_id": "5109f2cfceee49859da933e237e87025",
       "version_major": 2,
       "version_minor": 0
      },
      "text/plain": [
       "Extracting data files:   0%|          | 0/1 [00:00<?, ?it/s]"
      ]
     },
     "metadata": {},
     "output_type": "display_data"
    },
    {
     "data": {
      "application/vnd.jupyter.widget-view+json": {
       "model_id": "8b3176b8c37847a89ded34cc95b9c42b",
       "version_major": 2,
       "version_minor": 0
      },
      "text/plain": [
       "Generating train split: 0 examples [00:00, ? examples/s]"
      ]
     },
     "metadata": {},
     "output_type": "display_data"
    },
    {
     "name": "stdout",
     "output_type": "stream",
     "text": [
      "Dataset csv downloaded and prepared to /Users/cwoest/.cache/huggingface/datasets/maharshipandya___csv/maharshipandya--spotify-tracks-dataset-54ededad57b062e8/0.0.0/6954658bab30a358235fa864b05cf819af0e179325c740e4bc853bcc7ec513e1. Subsequent calls will reuse this data.\n"
     ]
    },
    {
     "data": {
      "application/vnd.jupyter.widget-view+json": {
       "model_id": "3f77a4d002484bf2acc2d823a0ad5e11",
       "version_major": 2,
       "version_minor": 0
      },
      "text/plain": [
       "  0%|          | 0/1 [00:00<?, ?it/s]"
      ]
     },
     "metadata": {},
     "output_type": "display_data"
    },
    {
     "name": "stdout",
     "output_type": "stream",
     "text": [
      "Shape: {'train': (114000, 21)}\n"
     ]
    }
   ],
   "source": [
    "dataset = load_dataset('maharshipandya/spotify-tracks-dataset')\n",
    "print(f\"Shape: {dataset.shape}\")"
   ]
  },
  {
   "cell_type": "code",
   "execution_count": 4,
   "metadata": {},
   "outputs": [
    {
     "name": "stdout",
     "output_type": "stream",
     "text": [
      "Shape: (114000, 21)\n",
      "<class 'pandas.core.frame.DataFrame'>\n",
      "RangeIndex: 114000 entries, 0 to 113999\n",
      "Data columns (total 21 columns):\n",
      " #   Column            Non-Null Count   Dtype  \n",
      "---  ------            --------------   -----  \n",
      " 0   Unnamed: 0        114000 non-null  int64  \n",
      " 1   track_id          114000 non-null  object \n",
      " 2   artists           113999 non-null  object \n",
      " 3   album_name        113999 non-null  object \n",
      " 4   track_name        113999 non-null  object \n",
      " 5   popularity        114000 non-null  int64  \n",
      " 6   duration_ms       114000 non-null  int64  \n",
      " 7   explicit          114000 non-null  bool   \n",
      " 8   danceability      114000 non-null  float64\n",
      " 9   energy            114000 non-null  float64\n",
      " 10  key               114000 non-null  int64  \n",
      " 11  loudness          114000 non-null  float64\n",
      " 12  mode              114000 non-null  int64  \n",
      " 13  speechiness       114000 non-null  float64\n",
      " 14  acousticness      114000 non-null  float64\n",
      " 15  instrumentalness  114000 non-null  float64\n",
      " 16  liveness          114000 non-null  float64\n",
      " 17  valence           114000 non-null  float64\n",
      " 18  tempo             114000 non-null  float64\n",
      " 19  time_signature    114000 non-null  int64  \n",
      " 20  track_genre       114000 non-null  object \n",
      "dtypes: bool(1), float64(9), int64(6), object(5)\n",
      "memory usage: 17.5+ MB\n"
     ]
    }
   ],
   "source": [
    "df = pd.DataFrame(dataset.get('train'))\n",
    "print(f\"Shape: {df.shape}\")\n",
    "df.info()"
   ]
  },
  {
   "cell_type": "code",
   "execution_count": 5,
   "metadata": {},
   "outputs": [
    {
     "name": "stdout",
     "output_type": "stream",
     "text": [
      "There are 6 int features in the dataset\n",
      "There are 9 float features in the dataset\n"
     ]
    }
   ],
   "source": [
    "INT_FEATURES = df.select_dtypes(include=['int64', 'int32']).columns.tolist()\n",
    "print(f\"There are {len(INT_FEATURES)} int features in the dataset\")\n",
    "\n",
    "FLOAT_FEATURES = df.select_dtypes(include=['float64', 'float32']).columns.tolist()\n",
    "print(f\"There are {len(FLOAT_FEATURES)} float features in the dataset\")\n",
    "\n",
    "FEATURES = INT_FEATURES + FLOAT_FEATURES\n",
    "TARGET_PRIOR = 'popularity'"
   ]
  },
  {
   "cell_type": "code",
   "execution_count": 6,
   "metadata": {},
   "outputs": [
    {
     "data": {
      "text/plain": [
       "popularity_bucket\n",
       "0    23462\n",
       "4    18904\n",
       "2    17579\n",
       "3    15570\n",
       "5    14200\n",
       "1    10715\n",
       "6     8724\n",
       "7     3892\n",
       "8      886\n",
       "9       68\n",
       "Name: count, dtype: int64"
      ]
     },
     "execution_count": 6,
     "metadata": {},
     "output_type": "execute_result"
    }
   ],
   "source": [
    "bins = np.arange(0, 101, 10)\n",
    "labels = np.arange(0, len(bins)-1, 1)\n",
    "assert len(bins) == len(labels)+1, f\"len(bins) = {len(bins)} != {len(labels)}+1 = len(labels)\"\n",
    "\n",
    "df['popularity_bucket'] = pd.cut(df[TARGET_PRIOR], \n",
    "                                 bins=bins, \n",
    "                                 labels=labels, \n",
    "                                 include_lowest=True)\n",
    "\n",
    "TARGET = 'popularity_bucket' \n",
    "df['popularity_bucket'].value_counts()     "
   ]
  },
  {
   "cell_type": "code",
   "execution_count": 7,
   "metadata": {},
   "outputs": [],
   "source": [
    "def predict_and_summarize(X_train_scaled,\n",
    "                          X_test_scaled, \n",
    "                          y_train, \n",
    "                          y_test,\n",
    "                          clf,\n",
    "                          model_type):\n",
    "\n",
    "    y_pred_train = clf.predict(X_train_scaled)\n",
    "    train_acc = accuracy_score(y_train, y_pred_train)\n",
    "    train_prec = precision_score(y_train, y_pred_train, average='macro', zero_division=0)\n",
    "    train_rec = recall_score(y_train, y_pred_train, average='macro', zero_division=0)\n",
    "    train_f1 = f1_score(y_train, y_pred_train, average='macro', zero_division=0)\n",
    "\n",
    "    y_pred = clf.predict(X_test_scaled)\n",
    "    test_acc = accuracy_score(y_test, y_pred)\n",
    "    test_prec = precision_score(y_test, y_pred, average='macro', zero_division=0)\n",
    "    test_rec = recall_score(y_test, y_pred, average='macro', zero_division=0)\n",
    "    test_f1 = f1_score(y_test, y_pred, average='macro', zero_division=0)\n",
    "\n",
    "    print(f\"\"\"\n",
    "    Performance Results : {model_type} \n",
    "    ========================================\n",
    "                    {'Train':<10}{'Test':<10}\n",
    "        Accuracy  : {train_acc:<10.4f}{test_acc:<10.4f}\n",
    "        Precision : {train_prec:<10.4f}{test_prec:<10.4f}\n",
    "        Recall    : {train_rec:<10.4f}{test_rec:<10.4f}\n",
    "        F1-Score  : {train_f1:<10.4f}{test_f1:<10.4f}\n",
    "    \"\"\")\n",
    "\n",
    "    return {'y_pred_train': y_pred_train, 'y_pred_test': y_pred}"
   ]
  },
  {
   "cell_type": "markdown",
   "metadata": {},
   "source": [
    "## Dataset Preparation"
   ]
  },
  {
   "cell_type": "code",
   "execution_count": 8,
   "metadata": {},
   "outputs": [
    {
     "name": "stdout",
     "output_type": "stream",
     "text": [
      "\n",
      "Shapes\n",
      "======\n",
      "    train: (96900, 15)\n",
      "    test : (17100, 15)      \n",
      "\n"
     ]
    }
   ],
   "source": [
    "X_train, X_test, y_train, y_test = train_test_split(df[FEATURES], \n",
    "                                                    df[TARGET], \n",
    "                                                    test_size=0.15,\n",
    "                                                    random_state=RANDOM_SEED,\n",
    "                                                    stratify=df[TARGET])\n",
    "print(f\"\"\"\n",
    "Shapes\n",
    "======\n",
    "    train: {X_train.shape}\n",
    "    test : {X_test.shape}      \n",
    "\"\"\")"
   ]
  },
  {
   "cell_type": "code",
   "execution_count": 9,
   "metadata": {},
   "outputs": [],
   "source": [
    "scaler = StandardScaler()\n",
    "X_train_scaled = scaler.fit_transform(X_train)\n",
    "X_test_scaled = scaler.transform(X_test)"
   ]
  },
  {
   "cell_type": "markdown",
   "metadata": {},
   "source": [
    "## Bayesian Hyperparameter Optimization\n",
    "\n",
    "Now we will tune the models hyperparameters using different libraries provided by Python.\n",
    "\n",
    "We will use `Precision` as our optimization metric."
   ]
  },
  {
   "cell_type": "code",
   "execution_count": 10,
   "metadata": {},
   "outputs": [
    {
     "name": "stdout",
     "output_type": "stream",
     "text": [
      "\n",
      "Shapes\n",
      "======\n",
      "    train : (77520, 15)\n",
      "    val   : (19380, 15)\n",
      "    test  : (17100, 15)\n",
      "\n"
     ]
    }
   ],
   "source": [
    "X_tra, X_val, y_tra, y_val = train_test_split(X_train,\n",
    "                                              y_train, \n",
    "                                              test_size=0.2, \n",
    "                                              random_state=RANDOM_SEED,\n",
    "                                              stratify=y_train)\n",
    "print(f\"\"\"\n",
    "Shapes\n",
    "======\n",
    "    train : {X_tra.shape}\n",
    "    val   : {X_val.shape}\n",
    "    test  : {X_test.shape}\n",
    "\"\"\")"
   ]
  },
  {
   "cell_type": "markdown",
   "metadata": {},
   "source": [
    "---\n",
    "\n",
    "## `Optuna`"
   ]
  },
  {
   "cell_type": "code",
   "execution_count": 26,
   "metadata": {},
   "outputs": [],
   "source": [
    "N_TRIALS = 20"
   ]
  },
  {
   "cell_type": "markdown",
   "metadata": {},
   "source": [
    "```python \n",
    "\n",
    "param_dist = {\n",
    "    'n_estimators': trial.suggest_int('n_estimators', 50, 300, log=True),\n",
    "    'max_depth': trial.suggest_int('max_depth', 2, 15),\n",
    "    'min_samples_split': trial.suggest_float('min_samples_split', 0.1, 1.0),\n",
    "    'min_samples_leaf': trial.suggest_float('min_samples_leaf', 0.1, 1.0),\n",
    "    'max_features': trial.suggest_categorical('max_features', ['auto', 'sqrt', 'log2', None]),\n",
    "    'bootstrap': trial.suggest_categorical('bootstrap', [True, False]),\n",
    "    'criterion': trial.suggest_categorical('criterion', ['gini', 'entropy']),\n",
    "    'random_state': 42,  # Fixed random_state or you can vary it as well\n",
    "}\n",
    "```"
   ]
  },
  {
   "cell_type": "code",
   "execution_count": 27,
   "metadata": {},
   "outputs": [],
   "source": [
    "accuracies_train, precisions_train, recalls_train, f1s_train = [], [], [], []\n",
    "accuracies_val, precisions_val, recalls_val, f1s_val = [], [], [], []\n",
    "accuracies_test, precisions_test, recalls_test, f1s_test = [], [], [], []\n",
    "\n",
    "def objective(trial):\n",
    "    n_estimators = trial.suggest_int('n_estimators', 50, 300, log=True)\n",
    "    max_depth = trial.suggest_int('max_depth', 2, 15)\n",
    "    min_samples_split = trial.suggest_float('min_samples_split', 0.1, 1.0)\n",
    "    min_samples_leaf = trial.suggest_float('min_samples_leaf', 0.1, 1.0)\n",
    "    max_features = trial.suggest_categorical('max_features', ['auto', 'sqrt', 'log2', None])\n",
    "    # bootstrap = trial.suggest_categorical('bootstrap', [True, False])\n",
    "    criterion = trial.suggest_categorical('criterion', ['gini', 'entropy'])    \n",
    "    \n",
    "    pipeline = Pipeline([\n",
    "        ('scaler', StandardScaler()),\n",
    "        ('classifier', RandomForestClassifier(\n",
    "            n_estimators=n_estimators,\n",
    "            max_depth=max_depth,\n",
    "            min_samples_split=min_samples_split,\n",
    "            min_samples_leaf=min_samples_leaf,\n",
    "            max_features=max_features,\n",
    "            # bootstrap=bootstrap,\n",
    "            criterion=criterion,\n",
    "            random_state=RANDOM_SEED\n",
    "        ))\n",
    "    ])\n",
    "        \n",
    "    pipeline.fit(X_tra, y_tra)\n",
    "\n",
    "    y_pred_train = pipeline.predict(X_tra)\n",
    "    y_pred_val = pipeline.predict(X_val)\n",
    "    y_test_pred = pipeline.named_steps['classifier'].predict(X_test_scaled)\n",
    "    \n",
    "    prec_train = precision_score(y_tra, y_pred_train, average='macro', zero_division=0)\n",
    "    prec_val = precision_score(y_val, y_pred_val, average='macro', zero_division=0)\n",
    "    prec_test = precision_score(y_test, y_test_pred, average='macro', zero_division=0)\n",
    "\n",
    "    precisions_train.append(prec_train)\n",
    "    precisions_val.append(prec_val)\n",
    "    precisions_test.append(prec_test)\n",
    "\n",
    "    return prec_val"
   ]
  },
  {
   "cell_type": "code",
   "execution_count": 28,
   "metadata": {},
   "outputs": [
    {
     "name": "stderr",
     "output_type": "stream",
     "text": [
      "[I 2023-10-08 23:29:46,050] A new study created in memory with name: my_optuna_study\n",
      "[I 2023-10-08 23:29:51,531] Trial 0 finished with value: 0.020583075335397317 and parameters: {'n_estimators': 251, 'max_depth': 8, 'min_samples_split': 0.3145366925973308, 'min_samples_leaf': 0.792390447432178, 'max_features': 'sqrt', 'criterion': 'entropy'}. Best is trial 0 with value: 0.020583075335397317.\n",
      "/users/cwoest/Applications/anaconda3/envs/bayes_opt_battle/lib/python3.11/site-packages/sklearn/ensemble/_forest.py:424: FutureWarning: `max_features='auto'` has been deprecated in 1.1 and will be removed in 1.3. To keep the past behaviour, explicitly set `max_features='sqrt'` or remove this parameter as it is also the default value for RandomForestClassifiers and ExtraTreesClassifiers.\n",
      "  warn(\n",
      "[I 2023-10-08 23:30:04,348] Trial 1 finished with value: 0.075435949989752 and parameters: {'n_estimators': 294, 'max_depth': 6, 'min_samples_split': 0.3101073944250894, 'min_samples_leaf': 0.1996544537252012, 'max_features': 'auto', 'criterion': 'entropy'}. Best is trial 1 with value: 0.075435949989752.\n",
      "/users/cwoest/Applications/anaconda3/envs/bayes_opt_battle/lib/python3.11/site-packages/sklearn/ensemble/_forest.py:424: FutureWarning: `max_features='auto'` has been deprecated in 1.1 and will be removed in 1.3. To keep the past behaviour, explicitly set `max_features='sqrt'` or remove this parameter as it is also the default value for RandomForestClassifiers and ExtraTreesClassifiers.\n",
      "  warn(\n",
      "[I 2023-10-08 23:30:07,094] Trial 2 finished with value: 0.020583075335397317 and parameters: {'n_estimators': 122, 'max_depth': 7, 'min_samples_split': 0.5141638445435068, 'min_samples_leaf': 0.9828759160558314, 'max_features': 'auto', 'criterion': 'entropy'}. Best is trial 1 with value: 0.075435949989752.\n",
      "[I 2023-10-08 23:30:10,685] Trial 3 finished with value: 0.07540308603519026 and parameters: {'n_estimators': 83, 'max_depth': 8, 'min_samples_split': 0.2623629241601698, 'min_samples_leaf': 0.20499400087851766, 'max_features': 'log2', 'criterion': 'entropy'}. Best is trial 1 with value: 0.075435949989752.\n",
      "[I 2023-10-08 23:30:17,405] Trial 4 finished with value: 0.07460764456026685 and parameters: {'n_estimators': 191, 'max_depth': 11, 'min_samples_split': 0.2591875361623125, 'min_samples_leaf': 0.3057188879998044, 'max_features': 'log2', 'criterion': 'gini'}. Best is trial 1 with value: 0.075435949989752.\n",
      "[I 2023-10-08 23:30:23,214] Trial 5 finished with value: 0.020583075335397317 and parameters: {'n_estimators': 272, 'max_depth': 10, 'min_samples_split': 0.6089321278389364, 'min_samples_leaf': 0.7160173886080515, 'max_features': 'log2', 'criterion': 'entropy'}. Best is trial 1 with value: 0.075435949989752.\n",
      "/users/cwoest/Applications/anaconda3/envs/bayes_opt_battle/lib/python3.11/site-packages/sklearn/ensemble/_forest.py:424: FutureWarning: `max_features='auto'` has been deprecated in 1.1 and will be removed in 1.3. To keep the past behaviour, explicitly set `max_features='sqrt'` or remove this parameter as it is also the default value for RandomForestClassifiers and ExtraTreesClassifiers.\n",
      "  warn(\n",
      "[I 2023-10-08 23:30:25,296] Trial 6 finished with value: 0.020583075335397317 and parameters: {'n_estimators': 94, 'max_depth': 6, 'min_samples_split': 0.28142422110962295, 'min_samples_leaf': 0.8953848320700808, 'max_features': 'auto', 'criterion': 'entropy'}. Best is trial 1 with value: 0.075435949989752.\n",
      "/users/cwoest/Applications/anaconda3/envs/bayes_opt_battle/lib/python3.11/site-packages/sklearn/ensemble/_forest.py:424: FutureWarning: `max_features='auto'` has been deprecated in 1.1 and will be removed in 1.3. To keep the past behaviour, explicitly set `max_features='sqrt'` or remove this parameter as it is also the default value for RandomForestClassifiers and ExtraTreesClassifiers.\n",
      "  warn(\n"
     ]
    }
   ],
   "source": [
    "start_time = time.time()\n",
    "\n",
    "# Creating a study and running Optuna optimization.\n",
    "study = optuna.create_study(study_name='my_optuna_study',\n",
    "                            direction='maximize')\n",
    "study.optimize(objective, n_trials=N_TRIALS)\n",
    "\n",
    "elapsed_time = time.time() - start_time\n",
    "elapsed_minutes, elapsed_seconds = int(elapsed_time // 60), int(elapsed_time % 60)"
   ]
  },
  {
   "cell_type": "code",
   "execution_count": null,
   "metadata": {},
   "outputs": [
    {
     "ename": "InvalidParameterError",
     "evalue": "The 'bootstrap' parameter of RandomForestClassifier must be an instance of 'bool', an instance of 'numpy.bool_' or an instance of 'int'. Got 0.4522547601528132 instead.",
     "output_type": "error",
     "traceback": [
      "\u001b[0;31m---------------------------------------------------------------------------\u001b[0m",
      "\u001b[0;31mInvalidParameterError\u001b[0m                     Traceback (most recent call last)",
      "Cell \u001b[0;32mIn[25], line 20\u001b[0m\n\u001b[1;32m      5\u001b[0m best_rfc \u001b[38;5;241m=\u001b[39m Pipeline([\n\u001b[1;32m      6\u001b[0m     (\u001b[38;5;124m'\u001b[39m\u001b[38;5;124mscaler\u001b[39m\u001b[38;5;124m'\u001b[39m, StandardScaler()),\n\u001b[1;32m      7\u001b[0m     (\u001b[38;5;124m'\u001b[39m\u001b[38;5;124mclassifier\u001b[39m\u001b[38;5;124m'\u001b[39m, RandomForestClassifier(\n\u001b[0;32m   (...)\u001b[0m\n\u001b[1;32m     16\u001b[0m     ))\n\u001b[1;32m     17\u001b[0m ])\n\u001b[1;32m     19\u001b[0m \u001b[38;5;66;03m# Train the final model on the searched optimal parameters.\u001b[39;00m\n\u001b[0;32m---> 20\u001b[0m best_rfc\u001b[38;5;241m.\u001b[39mfit(X_train_scaled, y_train)\n\u001b[1;32m     22\u001b[0m \u001b[38;5;66;03m# Train metrics.\u001b[39;00m\n\u001b[1;32m     23\u001b[0m y_train_pred \u001b[38;5;241m=\u001b[39m best_rfc\u001b[38;5;241m.\u001b[39mpredict(X_train_scaled)\n",
      "File \u001b[0;32m/users/cwoest/Applications/anaconda3/envs/bayes_opt_battle/lib/python3.11/site-packages/sklearn/pipeline.py:405\u001b[0m, in \u001b[0;36mPipeline.fit\u001b[0;34m(self, X, y, **fit_params)\u001b[0m\n\u001b[1;32m    <a href='file:///users/cwoest/Applications/anaconda3/envs/bayes_opt_battle/lib/python3.11/site-packages/sklearn/pipeline.py?line=402'>403</a>\u001b[0m     \u001b[39mif\u001b[39;00m \u001b[39mself\u001b[39m\u001b[39m.\u001b[39m_final_estimator \u001b[39m!=\u001b[39m \u001b[39m\"\u001b[39m\u001b[39mpassthrough\u001b[39m\u001b[39m\"\u001b[39m:\n\u001b[1;32m    <a href='file:///users/cwoest/Applications/anaconda3/envs/bayes_opt_battle/lib/python3.11/site-packages/sklearn/pipeline.py?line=403'>404</a>\u001b[0m         fit_params_last_step \u001b[39m=\u001b[39m fit_params_steps[\u001b[39mself\u001b[39m\u001b[39m.\u001b[39msteps[\u001b[39m-\u001b[39m\u001b[39m1\u001b[39m][\u001b[39m0\u001b[39m]]\n\u001b[0;32m--> <a href='file:///users/cwoest/Applications/anaconda3/envs/bayes_opt_battle/lib/python3.11/site-packages/sklearn/pipeline.py?line=404'>405</a>\u001b[0m         \u001b[39mself\u001b[39m\u001b[39m.\u001b[39m_final_estimator\u001b[39m.\u001b[39mfit(Xt, y, \u001b[39m*\u001b[39m\u001b[39m*\u001b[39mfit_params_last_step)\n\u001b[1;32m    <a href='file:///users/cwoest/Applications/anaconda3/envs/bayes_opt_battle/lib/python3.11/site-packages/sklearn/pipeline.py?line=406'>407</a>\u001b[0m \u001b[39mreturn\u001b[39;00m \u001b[39mself\u001b[39m\n",
      "File \u001b[0;32m/users/cwoest/Applications/anaconda3/envs/bayes_opt_battle/lib/python3.11/site-packages/sklearn/ensemble/_forest.py:340\u001b[0m, in \u001b[0;36mBaseForest.fit\u001b[0;34m(self, X, y, sample_weight)\u001b[0m\n\u001b[1;32m    <a href='file:///users/cwoest/Applications/anaconda3/envs/bayes_opt_battle/lib/python3.11/site-packages/sklearn/ensemble/_forest.py?line=312'>313</a>\u001b[0m \u001b[39mdef\u001b[39;00m \u001b[39mfit\u001b[39m(\u001b[39mself\u001b[39m, X, y, sample_weight\u001b[39m=\u001b[39m\u001b[39mNone\u001b[39;00m):\n\u001b[1;32m    <a href='file:///users/cwoest/Applications/anaconda3/envs/bayes_opt_battle/lib/python3.11/site-packages/sklearn/ensemble/_forest.py?line=313'>314</a>\u001b[0m \u001b[39m    \u001b[39m\u001b[39m\"\"\"\u001b[39;00m\n\u001b[1;32m    <a href='file:///users/cwoest/Applications/anaconda3/envs/bayes_opt_battle/lib/python3.11/site-packages/sklearn/ensemble/_forest.py?line=314'>315</a>\u001b[0m \u001b[39m    Build a forest of trees from the training set (X, y).\u001b[39;00m\n\u001b[1;32m    <a href='file:///users/cwoest/Applications/anaconda3/envs/bayes_opt_battle/lib/python3.11/site-packages/sklearn/ensemble/_forest.py?line=315'>316</a>\u001b[0m \n\u001b[0;32m   (...)\u001b[0m\n\u001b[1;32m    <a href='file:///users/cwoest/Applications/anaconda3/envs/bayes_opt_battle/lib/python3.11/site-packages/sklearn/ensemble/_forest.py?line=337'>338</a>\u001b[0m \u001b[39m        Fitted estimator.\u001b[39;00m\n\u001b[1;32m    <a href='file:///users/cwoest/Applications/anaconda3/envs/bayes_opt_battle/lib/python3.11/site-packages/sklearn/ensemble/_forest.py?line=338'>339</a>\u001b[0m \u001b[39m    \"\"\"\u001b[39;00m\n\u001b[0;32m--> <a href='file:///users/cwoest/Applications/anaconda3/envs/bayes_opt_battle/lib/python3.11/site-packages/sklearn/ensemble/_forest.py?line=339'>340</a>\u001b[0m     \u001b[39mself\u001b[39m\u001b[39m.\u001b[39m_validate_params()\n\u001b[1;32m    <a href='file:///users/cwoest/Applications/anaconda3/envs/bayes_opt_battle/lib/python3.11/site-packages/sklearn/ensemble/_forest.py?line=341'>342</a>\u001b[0m     \u001b[39m# Validate or convert input data\u001b[39;00m\n\u001b[1;32m    <a href='file:///users/cwoest/Applications/anaconda3/envs/bayes_opt_battle/lib/python3.11/site-packages/sklearn/ensemble/_forest.py?line=342'>343</a>\u001b[0m     \u001b[39mif\u001b[39;00m issparse(y):\n",
      "File \u001b[0;32m/users/cwoest/Applications/anaconda3/envs/bayes_opt_battle/lib/python3.11/site-packages/sklearn/base.py:600\u001b[0m, in \u001b[0;36mBaseEstimator._validate_params\u001b[0;34m(self)\u001b[0m\n\u001b[1;32m    <a href='file:///users/cwoest/Applications/anaconda3/envs/bayes_opt_battle/lib/python3.11/site-packages/sklearn/base.py?line=591'>592</a>\u001b[0m \u001b[39mdef\u001b[39;00m \u001b[39m_validate_params\u001b[39m(\u001b[39mself\u001b[39m):\n\u001b[1;32m    <a href='file:///users/cwoest/Applications/anaconda3/envs/bayes_opt_battle/lib/python3.11/site-packages/sklearn/base.py?line=592'>593</a>\u001b[0m \u001b[39m    \u001b[39m\u001b[39m\"\"\"Validate types and values of constructor parameters\u001b[39;00m\n\u001b[1;32m    <a href='file:///users/cwoest/Applications/anaconda3/envs/bayes_opt_battle/lib/python3.11/site-packages/sklearn/base.py?line=593'>594</a>\u001b[0m \n\u001b[1;32m    <a href='file:///users/cwoest/Applications/anaconda3/envs/bayes_opt_battle/lib/python3.11/site-packages/sklearn/base.py?line=594'>595</a>\u001b[0m \u001b[39m    The expected type and values must be defined in the `_parameter_constraints`\u001b[39;00m\n\u001b[0;32m   (...)\u001b[0m\n\u001b[1;32m    <a href='file:///users/cwoest/Applications/anaconda3/envs/bayes_opt_battle/lib/python3.11/site-packages/sklearn/base.py?line=597'>598</a>\u001b[0m \u001b[39m    accepted constraints.\u001b[39;00m\n\u001b[1;32m    <a href='file:///users/cwoest/Applications/anaconda3/envs/bayes_opt_battle/lib/python3.11/site-packages/sklearn/base.py?line=598'>599</a>\u001b[0m \u001b[39m    \"\"\"\u001b[39;00m\n\u001b[0;32m--> <a href='file:///users/cwoest/Applications/anaconda3/envs/bayes_opt_battle/lib/python3.11/site-packages/sklearn/base.py?line=599'>600</a>\u001b[0m     validate_parameter_constraints(\n\u001b[1;32m    <a href='file:///users/cwoest/Applications/anaconda3/envs/bayes_opt_battle/lib/python3.11/site-packages/sklearn/base.py?line=600'>601</a>\u001b[0m         \u001b[39mself\u001b[39m\u001b[39m.\u001b[39m_parameter_constraints,\n\u001b[1;32m    <a href='file:///users/cwoest/Applications/anaconda3/envs/bayes_opt_battle/lib/python3.11/site-packages/sklearn/base.py?line=601'>602</a>\u001b[0m         \u001b[39mself\u001b[39m\u001b[39m.\u001b[39mget_params(deep\u001b[39m=\u001b[39m\u001b[39mFalse\u001b[39;00m),\n\u001b[1;32m    <a href='file:///users/cwoest/Applications/anaconda3/envs/bayes_opt_battle/lib/python3.11/site-packages/sklearn/base.py?line=602'>603</a>\u001b[0m         caller_name\u001b[39m=\u001b[39m\u001b[39mself\u001b[39m\u001b[39m.\u001b[39m\u001b[39m__class__\u001b[39m\u001b[39m.\u001b[39m\u001b[39m__name__\u001b[39m,\n\u001b[1;32m    <a href='file:///users/cwoest/Applications/anaconda3/envs/bayes_opt_battle/lib/python3.11/site-packages/sklearn/base.py?line=603'>604</a>\u001b[0m     )\n",
      "File \u001b[0;32m/users/cwoest/Applications/anaconda3/envs/bayes_opt_battle/lib/python3.11/site-packages/sklearn/utils/_param_validation.py:97\u001b[0m, in \u001b[0;36mvalidate_parameter_constraints\u001b[0;34m(parameter_constraints, params, caller_name)\u001b[0m\n\u001b[1;32m     <a href='file:///users/cwoest/Applications/anaconda3/envs/bayes_opt_battle/lib/python3.11/site-packages/sklearn/utils/_param_validation.py?line=90'>91</a>\u001b[0m \u001b[39melse\u001b[39;00m:\n\u001b[1;32m     <a href='file:///users/cwoest/Applications/anaconda3/envs/bayes_opt_battle/lib/python3.11/site-packages/sklearn/utils/_param_validation.py?line=91'>92</a>\u001b[0m     constraints_str \u001b[39m=\u001b[39m (\n\u001b[1;32m     <a href='file:///users/cwoest/Applications/anaconda3/envs/bayes_opt_battle/lib/python3.11/site-packages/sklearn/utils/_param_validation.py?line=92'>93</a>\u001b[0m         \u001b[39mf\u001b[39m\u001b[39m\"\u001b[39m\u001b[39m{\u001b[39;00m\u001b[39m'\u001b[39m\u001b[39m, \u001b[39m\u001b[39m'\u001b[39m\u001b[39m.\u001b[39mjoin([\u001b[39mstr\u001b[39m(c)\u001b[39m \u001b[39m\u001b[39mfor\u001b[39;00m\u001b[39m \u001b[39mc\u001b[39m \u001b[39m\u001b[39min\u001b[39;00m\u001b[39m \u001b[39mconstraints[:\u001b[39m-\u001b[39m\u001b[39m1\u001b[39m]])\u001b[39m}\u001b[39;00m\u001b[39m or\u001b[39m\u001b[39m\"\u001b[39m\n\u001b[1;32m     <a href='file:///users/cwoest/Applications/anaconda3/envs/bayes_opt_battle/lib/python3.11/site-packages/sklearn/utils/_param_validation.py?line=93'>94</a>\u001b[0m         \u001b[39mf\u001b[39m\u001b[39m\"\u001b[39m\u001b[39m \u001b[39m\u001b[39m{\u001b[39;00mconstraints[\u001b[39m-\u001b[39m\u001b[39m1\u001b[39m]\u001b[39m}\u001b[39;00m\u001b[39m\"\u001b[39m\n\u001b[1;32m     <a href='file:///users/cwoest/Applications/anaconda3/envs/bayes_opt_battle/lib/python3.11/site-packages/sklearn/utils/_param_validation.py?line=94'>95</a>\u001b[0m     )\n\u001b[0;32m---> <a href='file:///users/cwoest/Applications/anaconda3/envs/bayes_opt_battle/lib/python3.11/site-packages/sklearn/utils/_param_validation.py?line=96'>97</a>\u001b[0m \u001b[39mraise\u001b[39;00m InvalidParameterError(\n\u001b[1;32m     <a href='file:///users/cwoest/Applications/anaconda3/envs/bayes_opt_battle/lib/python3.11/site-packages/sklearn/utils/_param_validation.py?line=97'>98</a>\u001b[0m     \u001b[39mf\u001b[39m\u001b[39m\"\u001b[39m\u001b[39mThe \u001b[39m\u001b[39m{\u001b[39;00mparam_name\u001b[39m!r}\u001b[39;00m\u001b[39m parameter of \u001b[39m\u001b[39m{\u001b[39;00mcaller_name\u001b[39m}\u001b[39;00m\u001b[39m must be\u001b[39m\u001b[39m\"\u001b[39m\n\u001b[1;32m     <a href='file:///users/cwoest/Applications/anaconda3/envs/bayes_opt_battle/lib/python3.11/site-packages/sklearn/utils/_param_validation.py?line=98'>99</a>\u001b[0m     \u001b[39mf\u001b[39m\u001b[39m\"\u001b[39m\u001b[39m \u001b[39m\u001b[39m{\u001b[39;00mconstraints_str\u001b[39m}\u001b[39;00m\u001b[39m. Got \u001b[39m\u001b[39m{\u001b[39;00mparam_val\u001b[39m!r}\u001b[39;00m\u001b[39m instead.\u001b[39m\u001b[39m\"\u001b[39m\n\u001b[1;32m    <a href='file:///users/cwoest/Applications/anaconda3/envs/bayes_opt_battle/lib/python3.11/site-packages/sklearn/utils/_param_validation.py?line=99'>100</a>\u001b[0m )\n",
      "\u001b[0;31mInvalidParameterError\u001b[0m: The 'bootstrap' parameter of RandomForestClassifier must be an instance of 'bool', an instance of 'numpy.bool_' or an instance of 'int'. Got 0.4522547601528132 instead."
     ]
    }
   ],
   "source": [
    "# The searched optimal parameters.\n",
    "best_params = study.best_params\n",
    "\n",
    "# Create the pipeline with the searched optimal parameters.\n",
    "best_rfc = Pipeline([\n",
    "    ('scaler', StandardScaler()),\n",
    "    ('classifier', RandomForestClassifier(\n",
    "        n_estimators=best_params['n_estimators'],\n",
    "        max_depth=best_params['max_depth'],\n",
    "        min_samples_split=best_params['min_samples_split'],\n",
    "        min_samples_leaf=best_params['min_samples_leaf'],\n",
    "        max_features=best_params['max_features'],\n",
    "        # bootstrap=best_params['min_samples_leaf'],\n",
    "        criterion=best_params['criterion'],       \n",
    "        random_state=RANDOM_SEED,\n",
    "    ))\n",
    "])\n",
    "\n",
    "# Train the final model on the searched optimal parameters.\n",
    "best_rfc.fit(X_train_scaled, y_train)\n",
    "\n",
    "# Train metrics.\n",
    "y_train_pred = best_rfc.predict(X_train_scaled)\n",
    "train_acc = accuracy_score(y_train, y_train_pred)\n",
    "train_prec = precision_score(y_train, y_train_pred, average='macro', zero_division=0)\n",
    "train_rec = recall_score(y_train, y_train_pred, average='macro', zero_division=0)\n",
    "train_f1 = f1_score(y_train, y_train_pred, average='macro', zero_division=0)\n",
    "\n",
    "# Test metrics.\n",
    "y_test_pred = best_rfc.predict(X_test_scaled)\n",
    "test_acc = accuracy_score(y_test, y_test_pred)\n",
    "test_prec = precision_score(y_test, y_test_pred, average='macro', zero_division=0)\n",
    "test_rec = recall_score(y_test, y_test_pred, average='macro', zero_division=0)\n",
    "test_f1 = f1_score(y_test, y_test_pred, average='macro', zero_division=0)\n",
    "\n",
    "print(f\"\"\"\n",
    "Optuna Results\n",
    "==============\n",
    "                {'Train':<10}{'Test':<10}{'Delta(train,test)':<20}\n",
    "    Accuracy  : {train_acc:<10.4f}{test_acc:<10.4f}{test_acc-train_acc:10.4f}\n",
    "    Precision : {train_prec:<10.4f}{test_prec:<10.4f}{test_prec-train_prec:10.4f}\n",
    "    Recall    : {train_rec:<10.4f}{test_rec:<10.4f}{test_rec-train_rec:10.4f}\n",
    "    F1-Score  : {train_f1:<10.4f}{test_f1:<10.4f}{test_f1-train_f1:10.4f}\n",
    "\n",
    "Tuning time: {elapsed_minutes} min {elapsed_seconds} sec\n",
    "\n",
    "Best parameters:\n",
    "\"\"\")\n",
    "pp = pprint.PrettyPrinter()\n",
    "pp.pprint(best_params)"
   ]
  },
  {
   "cell_type": "markdown",
   "metadata": {},
   "source": [
    "#### Plots"
   ]
  },
  {
   "cell_type": "code",
   "execution_count": 25,
   "metadata": {},
   "outputs": [
    {
     "data": {
      "image/png": "[encoded data removed]",
      "text/plain": [
       "<Figure size 800x500 with 2 Axes>"
      ]
     },
     "metadata": {},
     "output_type": "display_data"
    }
   ],
   "source": [
    "cm = confusion_matrix(y_test, y_test_pred)\n",
    "class_labels = np.unique(y_test)\n",
    "\n",
    "plt.figure(figsize=(8, 5))\n",
    "sns.heatmap(cm, \n",
    "            annot=True, \n",
    "            cmap='coolwarm', \n",
    "            fmt='d', \n",
    "            xticklabels=class_labels, \n",
    "            yticklabels=class_labels)\n",
    "plt.xlabel('Predicted')\n",
    "plt.ylabel('True')\n",
    "plt.title('RFC Optuna')\n",
    "\n",
    "plt.savefig('../../imgs/spotify_tracks/rfc_cm_optuna.png', dpi=300, bbox_inches='tight')\n",
    "\n",
    "plt.show()"
   ]
  },
  {
   "cell_type": "code",
   "execution_count": 27,
   "metadata": {},
   "outputs": [
    {
     "data": {
      "image/png": "[encoded data removed]",
      "text/plain": [
       "<Figure size 800x200 with 1 Axes>"
      ]
     },
     "metadata": {},
     "output_type": "display_data"
    }
   ],
   "source": [
    "plt.figure(figsize=(8, 2))\n",
    "\n",
    "plt.plot(np.arange(1, N_TRIALS+1, 1), precisions_train, label='Train', alpha=0.7, color='C0');\n",
    "plt.plot(np.arange(1, N_TRIALS+1, 1), precisions_test, label='Test', alpha=0.7, color='C1');\n",
    "\n",
    "plt.xlabel(\"# Trials\");\n",
    "plt.ylabel(\"Precision\");\n",
    "plt.legend();\n",
    "\n",
    "plt.title(\"Optuna\");\n",
    "plt.show();"
   ]
  },
  {
   "cell_type": "code",
   "execution_count": null,
   "metadata": {},
   "outputs": [],
   "source": []
  }
 ],
 "metadata": {
  "interpreter": {
   "hash": "c8d00f3e87b3b5822c5680339ba65b07adfd9e81a6bb96fb0d82429a47b2b81b"
  },
  "kernelspec": {
   "display_name": "Python 3.11.4 ('bayes-opt-battle')",
   "language": "python",
   "name": "python3"
  },
  "language_info": {
   "codemirror_mode": {
    "name": "ipython",
    "version": 3
   },
   "file_extension": ".py",
   "mimetype": "text/x-python",
   "name": "python",
   "nbconvert_exporter": "python",
   "pygments_lexer": "ipython3",
   "version": "3.11.4"
  },
  "orig_nbformat": 4
 },
 "nbformat": 4,
 "nbformat_minor": 2
}
