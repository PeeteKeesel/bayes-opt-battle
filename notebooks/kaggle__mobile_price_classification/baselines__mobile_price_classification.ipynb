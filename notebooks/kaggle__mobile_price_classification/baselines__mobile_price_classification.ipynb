{
 "cells": [
  {
   "cell_type": "code",
   "execution_count": 28,
   "metadata": {},
   "outputs": [],
   "source": [
    "import pprint\n",
    "import time\n",
    "import pandas as pd\n",
    "import numpy as np\n",
    "import matplotlib.pyplot as plt\n",
    "import seaborn as sns\n",
    "import optuna\n",
    "\n",
    "from sklearn.model_selection import train_test_split\n",
    "from sklearn.preprocessing import StandardScaler\n",
    "from sklearn.linear_model import LogisticRegression\n",
    "from sklearn.ensemble import RandomForestClassifier\n",
    "from sklearn.metrics import accuracy_score, precision_score, recall_score, f1_score\n",
    "from sklearn.metrics import confusion_matrix\n",
    "from sklearn.metrics import classification_report\n",
    "from sklearn.pipeline import Pipeline"
   ]
  },
  {
   "cell_type": "markdown",
   "metadata": {},
   "source": [
    "# Comparison of Bayesian Optimization Frameworks | Baselines\n",
    "\n",
    "In this notebook we are going to create baseline models to later compare with models which used bayesian optimization techniques for parameter tuning."
   ]
  },
  {
   "cell_type": "markdown",
   "metadata": {},
   "source": [
    "## Global Settings"
   ]
  },
  {
   "cell_type": "code",
   "execution_count": 29,
   "metadata": {},
   "outputs": [],
   "source": [
    "RANDOM_SEED = 42\n",
    "DATASET_FOLDER = '../../datasets/mobile_price_classification'"
   ]
  },
  {
   "cell_type": "code",
   "execution_count": 30,
   "metadata": {},
   "outputs": [
    {
     "name": "stdout",
     "output_type": "stream",
     "text": [
      "\n",
      "Shapes\n",
      "======\n",
      "    train: (2000, 21)\n",
      "    test : (1000, 21)      \n",
      "\n"
     ]
    },
    {
     "data": {
      "text/html": [
       "<div>\n",
       "<style scoped>\n",
       "    .dataframe tbody tr th:only-of-type {\n",
       "        vertical-align: middle;\n",
       "    }\n",
       "\n",
       "    .dataframe tbody tr th {\n",
       "        vertical-align: top;\n",
       "    }\n",
       "\n",
       "    .dataframe thead th {\n",
       "        text-align: right;\n",
       "    }\n",
       "</style>\n",
       "<table border=\"1\" class=\"dataframe\">\n",
       "  <thead>\n",
       "    <tr style=\"text-align: right;\">\n",
       "      <th></th>\n",
       "      <th>battery_power</th>\n",
       "      <th>blue</th>\n",
       "      <th>clock_speed</th>\n",
       "      <th>dual_sim</th>\n",
       "      <th>fc</th>\n",
       "      <th>four_g</th>\n",
       "      <th>int_memory</th>\n",
       "      <th>m_dep</th>\n",
       "      <th>mobile_wt</th>\n",
       "      <th>n_cores</th>\n",
       "      <th>...</th>\n",
       "      <th>px_height</th>\n",
       "      <th>px_width</th>\n",
       "      <th>ram</th>\n",
       "      <th>sc_h</th>\n",
       "      <th>sc_w</th>\n",
       "      <th>talk_time</th>\n",
       "      <th>three_g</th>\n",
       "      <th>touch_screen</th>\n",
       "      <th>wifi</th>\n",
       "      <th>price_range</th>\n",
       "    </tr>\n",
       "  </thead>\n",
       "  <tbody>\n",
       "    <tr>\n",
       "      <th>0</th>\n",
       "      <td>842</td>\n",
       "      <td>0</td>\n",
       "      <td>2.2</td>\n",
       "      <td>0</td>\n",
       "      <td>1</td>\n",
       "      <td>0</td>\n",
       "      <td>7</td>\n",
       "      <td>0.6</td>\n",
       "      <td>188</td>\n",
       "      <td>2</td>\n",
       "      <td>...</td>\n",
       "      <td>20</td>\n",
       "      <td>756</td>\n",
       "      <td>2549</td>\n",
       "      <td>9</td>\n",
       "      <td>7</td>\n",
       "      <td>19</td>\n",
       "      <td>0</td>\n",
       "      <td>0</td>\n",
       "      <td>1</td>\n",
       "      <td>1</td>\n",
       "    </tr>\n",
       "    <tr>\n",
       "      <th>1</th>\n",
       "      <td>1021</td>\n",
       "      <td>1</td>\n",
       "      <td>0.5</td>\n",
       "      <td>1</td>\n",
       "      <td>0</td>\n",
       "      <td>1</td>\n",
       "      <td>53</td>\n",
       "      <td>0.7</td>\n",
       "      <td>136</td>\n",
       "      <td>3</td>\n",
       "      <td>...</td>\n",
       "      <td>905</td>\n",
       "      <td>1988</td>\n",
       "      <td>2631</td>\n",
       "      <td>17</td>\n",
       "      <td>3</td>\n",
       "      <td>7</td>\n",
       "      <td>1</td>\n",
       "      <td>1</td>\n",
       "      <td>0</td>\n",
       "      <td>2</td>\n",
       "    </tr>\n",
       "    <tr>\n",
       "      <th>2</th>\n",
       "      <td>563</td>\n",
       "      <td>1</td>\n",
       "      <td>0.5</td>\n",
       "      <td>1</td>\n",
       "      <td>2</td>\n",
       "      <td>1</td>\n",
       "      <td>41</td>\n",
       "      <td>0.9</td>\n",
       "      <td>145</td>\n",
       "      <td>5</td>\n",
       "      <td>...</td>\n",
       "      <td>1263</td>\n",
       "      <td>1716</td>\n",
       "      <td>2603</td>\n",
       "      <td>11</td>\n",
       "      <td>2</td>\n",
       "      <td>9</td>\n",
       "      <td>1</td>\n",
       "      <td>1</td>\n",
       "      <td>0</td>\n",
       "      <td>2</td>\n",
       "    </tr>\n",
       "  </tbody>\n",
       "</table>\n",
       "<p>3 rows × 21 columns</p>\n",
       "</div>"
      ],
      "text/plain": [
       "   battery_power  blue  clock_speed  dual_sim  fc  four_g  int_memory  m_dep  \\\n",
       "0            842     0          2.2         0   1       0           7    0.6   \n",
       "1           1021     1          0.5         1   0       1          53    0.7   \n",
       "2            563     1          0.5         1   2       1          41    0.9   \n",
       "\n",
       "   mobile_wt  n_cores  ...  px_height  px_width   ram  sc_h  sc_w  talk_time  \\\n",
       "0        188        2  ...         20       756  2549     9     7         19   \n",
       "1        136        3  ...        905      1988  2631    17     3          7   \n",
       "2        145        5  ...       1263      1716  2603    11     2          9   \n",
       "\n",
       "   three_g  touch_screen  wifi  price_range  \n",
       "0        0             0     1            1  \n",
       "1        1             1     0            2  \n",
       "2        1             1     0            2  \n",
       "\n",
       "[3 rows x 21 columns]"
      ]
     },
     "execution_count": 30,
     "metadata": {},
     "output_type": "execute_result"
    }
   ],
   "source": [
    "train = pd.read_csv(f'{DATASET_FOLDER}/train.csv')\n",
    "test = pd.read_csv(f'{DATASET_FOLDER}/test.csv')\n",
    "print(f\"\"\"\n",
    "Shapes\n",
    "======\n",
    "    train: {train.shape}\n",
    "    test : {test.shape}      \n",
    "\"\"\")\n",
    "train.head(3)"
   ]
  },
  {
   "cell_type": "code",
   "execution_count": 31,
   "metadata": {},
   "outputs": [],
   "source": [
    "TARGET = 'price_range'\n",
    "FEATURES = list(set(train.columns).difference({TARGET}))"
   ]
  },
  {
   "cell_type": "code",
   "execution_count": 32,
   "metadata": {},
   "outputs": [],
   "source": [
    "\n",
    "def predict_and_summarize(X_train_scaled,\n",
    "                          X_test_scaled, \n",
    "                          y_train, \n",
    "                          y_test,\n",
    "                          clf,\n",
    "                          model_type):\n",
    "\n",
    "    y_pred_train = clf.predict(X_train_scaled)\n",
    "    train_acc = accuracy_score(y_train, y_pred_train)\n",
    "    train_prec = precision_score(y_train, y_pred_train, average='macro', zero_division=0)\n",
    "    train_rec = recall_score(y_train, y_pred_train, average='macro', zero_division=0)\n",
    "    train_f1 = f1_score(y_train, y_pred_train, average='macro', zero_division=0)\n",
    "\n",
    "    y_pred = clf.predict(X_test_scaled)\n",
    "    test_acc = accuracy_score(y_test, y_pred)\n",
    "    test_prec = precision_score(y_test, y_pred, average='macro', zero_division=0)\n",
    "    test_rec = recall_score(y_test, y_pred, average='macro', zero_division=0)\n",
    "    test_f1 = f1_score(y_test, y_pred, average='macro', zero_division=0)\n",
    "\n",
    "    print(f\"\"\"\n",
    "    Performance Results : {model_type} \n",
    "    ========================================\n",
    "                    {'Train':<10}{'Test':<10}\n",
    "        Accuracy  : {train_acc:<10.4f}{test_acc:<10.4f}\n",
    "        Precision : {train_prec:<10.4f}{test_prec:<10.4f}\n",
    "        Recall    : {train_rec:<10.4f}{test_rec:<10.4f}\n",
    "        F1-Score  : {train_f1:<10.4f}{test_f1:<10.4f}\n",
    "    \"\"\")\n",
    "\n",
    "    return {'y_pred_train': y_pred_train, 'y_pred_test': y_pred}"
   ]
  },
  {
   "cell_type": "markdown",
   "metadata": {},
   "source": [
    "## Dataset Preparation"
   ]
  },
  {
   "cell_type": "code",
   "execution_count": 33,
   "metadata": {},
   "outputs": [],
   "source": [
    "X_train, X_test, y_train, y_test = train_test_split(train[FEATURES],\n",
    "                                                    train[TARGET], \n",
    "                                                    test_size=0.3, \n",
    "                                                    random_state=RANDOM_SEED,\n",
    "                                                    stratify=train[TARGET])"
   ]
  },
  {
   "cell_type": "code",
   "execution_count": 34,
   "metadata": {},
   "outputs": [],
   "source": [
    "scaler = StandardScaler()\n",
    "X_train_scaled = scaler.fit_transform(X_train)\n",
    "X_test_scaled = scaler.transform(X_test)"
   ]
  },
  {
   "cell_type": "markdown",
   "metadata": {},
   "source": [
    "## Baseline Models\n",
    "\n",
    "Let's train a small baseline model to get a feeling for how much better the bayesian optimizated models will get."
   ]
  },
  {
   "cell_type": "markdown",
   "metadata": {},
   "source": [
    "### LogisticRegression"
   ]
  },
  {
   "cell_type": "code",
   "execution_count": 35,
   "metadata": {},
   "outputs": [
    {
     "name": "stdout",
     "output_type": "stream",
     "text": [
      "\n",
      "    Performance Results : LogisticRegression \n",
      "    ========================================\n",
      "                    Train     Test      \n",
      "        Accuracy  : 0.9764    0.9600    \n",
      "        Precision : 0.9765    0.9603    \n",
      "        Recall    : 0.9764    0.9600    \n",
      "        F1-Score  : 0.9764    0.9600    \n",
      "    \n"
     ]
    }
   ],
   "source": [
    "lrc = LogisticRegression()\n",
    "\n",
    "lrc.fit(X_train_scaled, y_train)\n",
    "\n",
    "y_preds = predict_and_summarize(X_train_scaled,\n",
    "                                X_test_scaled, \n",
    "                                y_train, \n",
    "                                y_test,\n",
    "                                lrc,\n",
    "                                'LogisticRegression')"
   ]
  },
  {
   "cell_type": "code",
   "execution_count": 36,
   "metadata": {},
   "outputs": [
    {
     "data": {
      "image/png": "[encoded data removed]",
      "text/plain": [
       "<Figure size 300x200 with 2 Axes>"
      ]
     },
     "metadata": {},
     "output_type": "display_data"
    }
   ],
   "source": [
    "cm = confusion_matrix(y_test, y_preds.get('y_pred_test'))\n",
    "class_labels = np.unique(y_test)\n",
    "\n",
    "plt.figure(figsize=(3, 2))\n",
    "sns.heatmap(cm, \n",
    "            annot=True, \n",
    "            cmap='coolwarm', \n",
    "            fmt='d', \n",
    "            xticklabels=class_labels, \n",
    "            yticklabels=class_labels,\n",
    "            cbar_kws={'ticks': [0, 50, 100, 150]})\n",
    "plt.xlabel('Predicted')\n",
    "plt.ylabel('True')\n",
    "plt.title('LR Untuned')\n",
    "\n",
    "plt.savefig('../imgs/lr_cm_untuned.png', dpi=300, bbox_inches='tight')\n",
    "\n",
    "plt.show()"
   ]
  },
  {
   "cell_type": "markdown",
   "metadata": {},
   "source": [
    "The model is already strongly predictive. However, let's see if we can improve performance by tuning hyperparameters of a model."
   ]
  },
  {
   "cell_type": "markdown",
   "metadata": {},
   "source": [
    "### RandomForestClassifier"
   ]
  },
  {
   "cell_type": "code",
   "execution_count": 37,
   "metadata": {},
   "outputs": [
    {
     "name": "stdout",
     "output_type": "stream",
     "text": [
      "\n",
      "    Performance Results : RandomForestClassifier \n",
      "    ========================================\n",
      "                    Train     Test      \n",
      "        Accuracy  : 1.0000    0.8683    \n",
      "        Precision : 1.0000    0.8672    \n",
      "        Recall    : 1.0000    0.8683    \n",
      "        F1-Score  : 1.0000    0.8675    \n",
      "    \n"
     ]
    }
   ],
   "source": [
    "rfc = RandomForestClassifier(random_state=RANDOM_SEED)\n",
    "\n",
    "rfc.fit(X_train_scaled, y_train)\n",
    "\n",
    "y_preds = predict_and_summarize(X_train_scaled,\n",
    "                                X_test_scaled, \n",
    "                                y_train, \n",
    "                                y_test,\n",
    "                                rfc,\n",
    "                                'RandomForestClassifier')"
   ]
  },
  {
   "cell_type": "code",
   "execution_count": 38,
   "metadata": {},
   "outputs": [
    {
     "data": {
      "image/png": "[encoded data removed]",
      "text/plain": [
       "<Figure size 300x200 with 2 Axes>"
      ]
     },
     "metadata": {},
     "output_type": "display_data"
    }
   ],
   "source": [
    "cm = confusion_matrix(y_test, y_preds.get('y_pred_test'))\n",
    "class_labels = np.unique(y_test)\n",
    "\n",
    "plt.figure(figsize=(3, 2))\n",
    "sns.heatmap(cm, \n",
    "            annot=True, \n",
    "            cmap='coolwarm', \n",
    "            fmt='d', \n",
    "            xticklabels=class_labels, \n",
    "            yticklabels=class_labels,\n",
    "            cbar_kws={'ticks': [0, 50, 100, 150]})\n",
    "plt.xlabel('Predicted')\n",
    "plt.ylabel('True')\n",
    "plt.title('RFC Untuned')\n",
    "\n",
    "plt.savefig('../imgs/rfc_cm_untuned.png', dpi=300, bbox_inches='tight')\n",
    "\n",
    "plt.show()"
   ]
  },
  {
   "cell_type": "markdown",
   "metadata": {},
   "source": [
    "The un-tuned random forest classifier is highly overfit and the test performance is lower then the one from the logistic regression."
   ]
  }
 ],
 "metadata": {
  "interpreter": {
   "hash": "c8d00f3e87b3b5822c5680339ba65b07adfd9e81a6bb96fb0d82429a47b2b81b"
  },
  "kernelspec": {
   "display_name": "Python 3.11.4 ('bayes-opt-battle')",
   "language": "python",
   "name": "python3"
  },
  "language_info": {
   "codemirror_mode": {
    "name": "ipython",
    "version": 3
   },
   "file_extension": ".py",
   "mimetype": "text/x-python",
   "name": "python",
   "nbconvert_exporter": "python",
   "pygments_lexer": "ipython3",
   "version": "3.11.4"
  },
  "orig_nbformat": 4
 },
 "nbformat": 4,
 "nbformat_minor": 2
}
