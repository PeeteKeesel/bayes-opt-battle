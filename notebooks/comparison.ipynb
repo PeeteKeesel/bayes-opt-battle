{
 "cells": [
  {
   "cell_type": "code",
   "execution_count": 1,
   "metadata": {},
   "outputs": [],
   "source": [
    "import pandas as pd\n",
    "import matplotlib.pyplot as plt"
   ]
  },
  {
   "cell_type": "markdown",
   "metadata": {},
   "source": [
    "# Comparison of Bayesian Optimization Frameworks"
   ]
  },
  {
   "cell_type": "markdown",
   "metadata": {},
   "source": [
    "## :eyes: General Insights"
   ]
  },
  {
   "cell_type": "code",
   "execution_count": 2,
   "metadata": {},
   "outputs": [
    {
     "name": "stdout",
     "output_type": "stream",
     "text": [
      "(395, 29)\n"
     ]
    },
    {
     "data": {
      "text/html": [
       "<div>\n",
       "<style scoped>\n",
       "    .dataframe tbody tr th:only-of-type {\n",
       "        vertical-align: middle;\n",
       "    }\n",
       "\n",
       "    .dataframe tbody tr th {\n",
       "        vertical-align: top;\n",
       "    }\n",
       "\n",
       "    .dataframe thead th {\n",
       "        text-align: right;\n",
       "    }\n",
       "</style>\n",
       "<table border=\"1\" class=\"dataframe\">\n",
       "  <thead>\n",
       "    <tr style=\"text-align: right;\">\n",
       "      <th></th>\n",
       "      <th>school</th>\n",
       "      <th>sex</th>\n",
       "      <th>age</th>\n",
       "      <th>famsize</th>\n",
       "      <th>Pstatus</th>\n",
       "      <th>Medu</th>\n",
       "      <th>Fedu</th>\n",
       "      <th>traveltime</th>\n",
       "      <th>failures</th>\n",
       "      <th>schoolsup</th>\n",
       "      <th>...</th>\n",
       "      <th>goout</th>\n",
       "      <th>Dalc</th>\n",
       "      <th>Walc</th>\n",
       "      <th>health</th>\n",
       "      <th>absences</th>\n",
       "      <th>G1</th>\n",
       "      <th>G2</th>\n",
       "      <th>G3</th>\n",
       "      <th>location</th>\n",
       "      <th>study_time</th>\n",
       "    </tr>\n",
       "  </thead>\n",
       "  <tbody>\n",
       "    <tr>\n",
       "      <th>0</th>\n",
       "      <td>GP</td>\n",
       "      <td>F</td>\n",
       "      <td>18</td>\n",
       "      <td>GT3</td>\n",
       "      <td>A</td>\n",
       "      <td>4</td>\n",
       "      <td>4</td>\n",
       "      <td>2</td>\n",
       "      <td>0</td>\n",
       "      <td>yes</td>\n",
       "      <td>...</td>\n",
       "      <td>4</td>\n",
       "      <td>1</td>\n",
       "      <td>1</td>\n",
       "      <td>3</td>\n",
       "      <td>6</td>\n",
       "      <td>5</td>\n",
       "      <td>6</td>\n",
       "      <td>6</td>\n",
       "      <td>Urban</td>\n",
       "      <td>2 to 5 hours</td>\n",
       "    </tr>\n",
       "    <tr>\n",
       "      <th>1</th>\n",
       "      <td>GP</td>\n",
       "      <td>F</td>\n",
       "      <td>17</td>\n",
       "      <td>GT3</td>\n",
       "      <td>T</td>\n",
       "      <td>1</td>\n",
       "      <td>1</td>\n",
       "      <td>1</td>\n",
       "      <td>0</td>\n",
       "      <td>no</td>\n",
       "      <td>...</td>\n",
       "      <td>3</td>\n",
       "      <td>1</td>\n",
       "      <td>1</td>\n",
       "      <td>3</td>\n",
       "      <td>4</td>\n",
       "      <td>5</td>\n",
       "      <td>5</td>\n",
       "      <td>6</td>\n",
       "      <td>Urban</td>\n",
       "      <td>2 to 5 hours</td>\n",
       "    </tr>\n",
       "    <tr>\n",
       "      <th>2</th>\n",
       "      <td>GP</td>\n",
       "      <td>F</td>\n",
       "      <td>15</td>\n",
       "      <td>LE3</td>\n",
       "      <td>T</td>\n",
       "      <td>1</td>\n",
       "      <td>1</td>\n",
       "      <td>1</td>\n",
       "      <td>3</td>\n",
       "      <td>yes</td>\n",
       "      <td>...</td>\n",
       "      <td>2</td>\n",
       "      <td>2</td>\n",
       "      <td>3</td>\n",
       "      <td>3</td>\n",
       "      <td>10</td>\n",
       "      <td>7</td>\n",
       "      <td>8</td>\n",
       "      <td>10</td>\n",
       "      <td>Urban</td>\n",
       "      <td>2 to 5 hours</td>\n",
       "    </tr>\n",
       "    <tr>\n",
       "      <th>3</th>\n",
       "      <td>GP</td>\n",
       "      <td>F</td>\n",
       "      <td>15</td>\n",
       "      <td>GT3</td>\n",
       "      <td>T</td>\n",
       "      <td>4</td>\n",
       "      <td>2</td>\n",
       "      <td>1</td>\n",
       "      <td>0</td>\n",
       "      <td>no</td>\n",
       "      <td>...</td>\n",
       "      <td>2</td>\n",
       "      <td>1</td>\n",
       "      <td>1</td>\n",
       "      <td>5</td>\n",
       "      <td>2</td>\n",
       "      <td>15</td>\n",
       "      <td>14</td>\n",
       "      <td>15</td>\n",
       "      <td>Urban</td>\n",
       "      <td>5 to 10 hours</td>\n",
       "    </tr>\n",
       "    <tr>\n",
       "      <th>4</th>\n",
       "      <td>GP</td>\n",
       "      <td>F</td>\n",
       "      <td>16</td>\n",
       "      <td>GT3</td>\n",
       "      <td>T</td>\n",
       "      <td>3</td>\n",
       "      <td>3</td>\n",
       "      <td>1</td>\n",
       "      <td>0</td>\n",
       "      <td>no</td>\n",
       "      <td>...</td>\n",
       "      <td>2</td>\n",
       "      <td>1</td>\n",
       "      <td>2</td>\n",
       "      <td>5</td>\n",
       "      <td>4</td>\n",
       "      <td>6</td>\n",
       "      <td>10</td>\n",
       "      <td>10</td>\n",
       "      <td>Urban</td>\n",
       "      <td>2 to 5 hours</td>\n",
       "    </tr>\n",
       "  </tbody>\n",
       "</table>\n",
       "<p>5 rows × 29 columns</p>\n",
       "</div>"
      ],
      "text/plain": [
       "  school sex  age famsize Pstatus  Medu  Fedu  traveltime  failures schoolsup  \\\n",
       "0     GP   F   18     GT3       A     4     4           2         0       yes   \n",
       "1     GP   F   17     GT3       T     1     1           1         0        no   \n",
       "2     GP   F   15     LE3       T     1     1           1         3       yes   \n",
       "3     GP   F   15     GT3       T     4     2           1         0        no   \n",
       "4     GP   F   16     GT3       T     3     3           1         0        no   \n",
       "\n",
       "   ... goout Dalc Walc health absences  G1  G2  G3  location     study_time  \n",
       "0  ...     4    1    1      3        6   5   6   6     Urban   2 to 5 hours  \n",
       "1  ...     3    1    1      3        4   5   5   6     Urban   2 to 5 hours  \n",
       "2  ...     2    2    3      3       10   7   8  10     Urban   2 to 5 hours  \n",
       "3  ...     2    1    1      5        2  15  14  15     Urban  5 to 10 hours  \n",
       "4  ...     2    1    2      5        4   6  10  10     Urban   2 to 5 hours  \n",
       "\n",
       "[5 rows x 29 columns]"
      ]
     },
     "execution_count": 2,
     "metadata": {},
     "output_type": "execute_result"
    }
   ],
   "source": [
    "df = pd.read_csv('../datasets/student-alcohol-consumption.csv', index_col=[0])\n",
    "print(df.shape)\n",
    "df.head(5)"
   ]
  },
  {
   "cell_type": "code",
   "execution_count": 3,
   "metadata": {},
   "outputs": [
    {
     "data": {
      "text/plain": [
       "school        object\n",
       "sex           object\n",
       "age            int64\n",
       "famsize       object\n",
       "Pstatus       object\n",
       "Medu           int64\n",
       "Fedu           int64\n",
       "traveltime     int64\n",
       "failures       int64\n",
       "schoolsup     object\n",
       "famsup        object\n",
       "paid          object\n",
       "activities    object\n",
       "nursery       object\n",
       "higher        object\n",
       "internet      object\n",
       "romantic      object\n",
       "famrel         int64\n",
       "freetime       int64\n",
       "goout          int64\n",
       "Dalc           int64\n",
       "Walc           int64\n",
       "health         int64\n",
       "absences       int64\n",
       "G1             int64\n",
       "G2             int64\n",
       "G3             int64\n",
       "location      object\n",
       "study_time    object\n",
       "dtype: object"
      ]
     },
     "execution_count": 3,
     "metadata": {},
     "output_type": "execute_result"
    }
   ],
   "source": [
    "df.dtypes"
   ]
  },
  {
   "cell_type": "markdown",
   "metadata": {},
   "source": [
    "According to the [Kaggle description](https://www.kaggle.com/datasets/uciml/student-alcohol-consumption) the columns are defined as follows:\n",
    "\n",
    "| Column     | Description                                                                                      |\n",
    "|------------|--------------------------------------------------------------------------------------------------|\n",
    "| school     | student's school (binary: 'GP' - Gabriel Pereira or 'MS' - Mousinho da Silveira)                |\n",
    "| sex        | student's sex (binary: 'F' - female or 'M' - male)                                            |\n",
    "| age        | student's age (numeric: from 15 to 22)                                                        |\n",
    "| address    | student's home address type (binary: 'U' - urban or 'R' - rural)                             |\n",
    "| famsize    | family size (binary: 'LE3' - less or equal to 3 or 'GT3' - greater than 3)                   |\n",
    "| Pstatus    | parent's cohabitation status (binary: 'T' - living together or 'A' - apart)                   |\n",
    "| Medu       | mother's education (numeric: 0 - none, 1 - primary education (4th grade), ...)                |\n",
    "| Fedu       | father's education (numeric: 0 - none, 1 - primary education (4th grade), ...)                |\n",
    "| Mjob       | mother's job (nominal: 'teacher', 'health' care related, ...)                                  |\n",
    "| Fjob       | father's job (nominal: 'teacher', 'health' care related, ...)                                  |\n",
    "| reason     | reason to choose this school (nominal: close to 'home', school 'reputation', ...)               |\n",
    "| guardian   | student's guardian (nominal: 'mother', 'father' or 'other')                                    |\n",
    "| traveltime | home to school travel time (numeric: 1 - <15 min., 2 - 15 to 30 min., ...)                     |\n",
    "| studytime  | weekly study time (numeric: 1 - <2 hours, 2 - 2 to 5 hours, ...)                                |\n",
    "| failures   | number of past class failures (numeric: n if 1<=n<3, else 4)                                   |\n",
    "| schoolsup  | extra educational support (binary: yes or no)                                                   |\n",
    "| famsup     | family educational support (binary: yes or no)                                                   |\n",
    "| paid       | extra paid classes within the course subject (Math or Portuguese) (binary: yes or no)           |\n",
    "| activities | extra-curricular activities (binary: yes or no)                                                 |\n",
    "| nursery    | attended nursery school (binary: yes or no)                                                     |\n",
    "| higher     | wants to take higher education (binary: yes or no)                                              |\n",
    "| internet   | Internet access at home (binary: yes or no)                                                     |\n",
    "| romantic   | with a romantic relationship (binary: yes or no)                                                |\n",
    "| famrel     | quality of family relationships (numeric: from 1 - very bad to 5 - excellent)                    |\n",
    "| freetime   | free time after school (numeric: from 1 - very low to 5 - very high)                             |\n",
    "| goout      | going out with friends (numeric: from 1 - very low to 5 - very high)                             |\n",
    "| Dalc       | workday alcohol consumption (numeric: from 1 - very low to 5 - very high)                         |\n",
    "| Walc       | weekend alcohol consumption (numeric: from 1 - very low to 5 - very high)                         |\n",
    "| health     | current health status (numeric: from 1 - very bad to 5 - very good)                               |\n",
    "| absences   | number of school absences (numeric: from 0 to 93)                                               |\n",
    "| G1         | first period grade (numeric: from 0 to 20)                                                       |\n",
    "| G2         | second period grade (numeric: from 0 to 20)                                                      |\n",
    "| G3         | final grade (numeric: from 0 to 20, output target)                                               |\n"
   ]
  },
  {
   "cell_type": "markdown",
   "metadata": {},
   "source": [
    "> The objective could be to **predict the students final grade** (`G3`)."
   ]
  },
  {
   "cell_type": "code",
   "execution_count": 10,
   "metadata": {},
   "outputs": [
    {
     "data": {
      "image/png": "[encoded data removed]",
      "text/plain": [
       "<Figure size 432x288 with 1 Axes>"
      ]
     },
     "metadata": {
      "needs_background": "light"
     },
     "output_type": "display_data"
    }
   ],
   "source": [
    "plt.hist(df.G3, bins=30, edgecolor='black', linewidth=1.0);\n",
    "plt.title(\"Students Final Grade\");"
   ]
  },
  {
   "cell_type": "code",
   "execution_count": null,
   "metadata": {},
   "outputs": [],
   "source": []
  }
 ],
 "metadata": {
  "interpreter": {
   "hash": "c8d00f3e87b3b5822c5680339ba65b07adfd9e81a6bb96fb0d82429a47b2b81b"
  },
  "kernelspec": {
   "display_name": "Python 3.11.4 ('bayes-opt-battle')",
   "language": "python",
   "name": "python3"
  },
  "language_info": {
   "codemirror_mode": {
    "name": "ipython",
    "version": 3
   },
   "file_extension": ".py",
   "mimetype": "text/x-python",
   "name": "python",
   "nbconvert_exporter": "python",
   "pygments_lexer": "ipython3",
   "version": "3.11.4"
  },
  "orig_nbformat": 4
 },
 "nbformat": 4,
 "nbformat_minor": 2
}
